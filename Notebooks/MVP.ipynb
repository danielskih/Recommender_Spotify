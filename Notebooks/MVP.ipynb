{
 "cells": [
  {
   "cell_type": "code",
   "execution_count": 1,
   "metadata": {},
   "outputs": [],
   "source": [
    "import pandas as pd\n",
    "from random import randint, choice\n",
    "from recommend import recommend"
   ]
  },
  {
   "cell_type": "code",
   "execution_count": 4,
   "metadata": {},
   "outputs": [
    {
     "name": "stdout",
     "output_type": "stream",
     "text": [
      "Pls, enter the song name\n",
      "piano sonata no 1\n"
     ]
    }
   ],
   "source": [
    "song = input('Pls, enter the song name\\n')"
   ]
  },
  {
   "cell_type": "code",
   "execution_count": 5,
   "metadata": {},
   "outputs": [
    {
     "name": "stdout",
     "output_type": "stream",
     "text": [
      "Sorry bud, that song is not in Top 100, but I will conjure you something from Spotify,\n",
      "Try and click that link: \n",
      "https://open.spotify.com/track/3Vji5BYcceyvEOBNCHsVrx \n",
      "see if you like it.\n"
     ]
    }
   ],
   "source": [
    "%run -i 'scrap.py'\n",
    "top100 = pd.read_csv('../Data/bllbrd_top_100')\n",
    "if song.lower() in list(top100.song.str.lower()):\n",
    "    match = choice(songs)\n",
    "    artist = top100.loc[top100['song'] == match, 'artist'].values[0]\n",
    "    print(\"Your song {} by {} is in top 100 list\".format(match, artist))\n",
    "\n",
    "if song.lower() not in list(top100.song.str.lower()):\n",
    "    print('Sorry bud, that song is not in Top 100, but I will conjure you something from Spotify,')\n",
    "    print(recommend(song))"
   ]
  },
  {
   "cell_type": "code",
   "execution_count": null,
   "metadata": {},
   "outputs": [],
   "source": []
  }
 ],
 "metadata": {
  "interpreter": {
   "hash": "2656a2c345cefa427158ba98ce933765c4a8ddc3d81beb3a286dab2e54fd9b6d"
  },
  "kernelspec": {
   "display_name": "Python 3 (ipykernel)",
   "language": "python",
   "name": "python3"
  },
  "language_info": {
   "codemirror_mode": {
    "name": "ipython",
    "version": 3
   },
   "file_extension": ".py",
   "mimetype": "text/x-python",
   "name": "python",
   "nbconvert_exporter": "python",
   "pygments_lexer": "ipython3",
   "version": "3.9.7"
  }
 },
 "nbformat": 4,
 "nbformat_minor": 2
}
