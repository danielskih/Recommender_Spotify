{
 "cells": [
  {
   "cell_type": "code",
   "execution_count": 3,
   "metadata": {},
   "outputs": [],
   "source": [
    "import pandas as pd\n",
    "from random import choice\n",
    "from recommend import recommend"
   ]
  },
  {
   "cell_type": "code",
   "execution_count": 1,
   "metadata": {},
   "outputs": [],
   "source": [
    "song = input('Pls, enter the song name\\n')"
   ]
  },
  {
   "cell_type": "code",
   "execution_count": 10,
   "metadata": {},
   "outputs": [
    {
     "name": "stdout",
     "output_type": "stream",
     "text": [
      "Your song by is in top 100 list\n",
      "here is another song form there:\n",
      "Boyfriend by Dove Cameron\n"
     ]
    }
   ],
   "source": [
    "%run -i 'scrap.py'\n",
    "top100 = pd.read_csv('../Data/bllbrd_top_100')\n",
    "if song.lower() in list(top100.song.str.lower()):\n",
    "    match = choice(top100.song)\n",
    "    artist = top100.loc[top100['song'] == match, 'artist'].values[0]\n",
    "    print(\"Your song is in top 100 list\\nhere is another song form there:\\n{} by {}\".format(match, artist))\n",
    "\n",
    "if song.lower() not in list(top100.song.str.lower()):\n",
    "    print('Sorry bud, that song is not in Top 100, but I will conjure you something from Spotify,')\n",
    "    print(recommend(song))"
   ]
  }
 ],
 "metadata": {
  "interpreter": {
   "hash": "2656a2c345cefa427158ba98ce933765c4a8ddc3d81beb3a286dab2e54fd9b6d"
  },
  "kernelspec": {
   "display_name": "Python 3.9.7 ('ih_da')",
   "language": "python",
   "name": "python3"
  },
  "language_info": {
   "codemirror_mode": {
    "name": "ipython",
    "version": 3
   },
   "file_extension": ".py",
   "mimetype": "text/x-python",
   "name": "python",
   "nbconvert_exporter": "python",
   "pygments_lexer": "ipython3",
   "version": "3.9.7"
  }
 },
 "nbformat": 4,
 "nbformat_minor": 2
}
