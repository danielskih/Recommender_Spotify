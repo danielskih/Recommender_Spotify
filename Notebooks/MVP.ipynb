{
 "cells": [
  {
   "cell_type": "code",
   "execution_count": 64,
   "metadata": {},
   "outputs": [],
   "source": [
    "import pandas as pd\n",
    "from random import randint, choice\n"
   ]
  },
  {
   "cell_type": "code",
   "execution_count": 85,
   "metadata": {},
   "outputs": [],
   "source": [
    "top100 = pd.read_csv('../Data/bllbrd_top_100')"
   ]
  },
  {
   "cell_type": "code",
   "execution_count": 86,
   "metadata": {},
   "outputs": [
    {
     "name": "stdout",
     "output_type": "stream",
     "text": [
      "Pls, enter the song name as it was\n"
     ]
    }
   ],
   "source": [
    "song = input('Pls, enter the song name ')"
   ]
  },
  {
   "cell_type": "code",
   "execution_count": 81,
   "metadata": {},
   "outputs": [],
   "source": [
    "songs = [i for i in top100['song'].values]"
   ]
  },
  {
   "cell_type": "code",
   "execution_count": 90,
   "metadata": {},
   "outputs": [
    {
     "name": "stdout",
     "output_type": "stream",
     "text": [
      "Broadway Girls by Lil Durk Featuring Morgan Wallen\n"
     ]
    }
   ],
   "source": [
    "if song.lower() in list(top100.song.str.lower()):\n",
    "    match = choice(songs)\n",
    "    artist = top100.loc[top100['song'] == match, 'artist'].values[0]\n",
    "    print(\"{} by {}\".format(match, artist))"
   ]
  },
  {
   "cell_type": "code",
   "execution_count": 84,
   "metadata": {},
   "outputs": [
    {
     "name": "stdout",
     "output_type": "stream",
     "text": [
      "Sorry bud, that song is not in Top 100\n"
     ]
    }
   ],
   "source": [
    "if not song.lower() in list(top100.song.str.lower()):\n",
    "    print('Sorry bud, that song is not in Top 100')"
   ]
  }
 ],
 "metadata": {
  "interpreter": {
   "hash": "2656a2c345cefa427158ba98ce933765c4a8ddc3d81beb3a286dab2e54fd9b6d"
  },
  "kernelspec": {
   "display_name": "Python 3.9.7 ('ih_da')",
   "language": "python",
   "name": "python397jvsc74a57bd02656a2c345cefa427158ba98ce933765c4a8ddc3d81beb3a286dab2e54fd9b6d"
  },
  "language_info": {
   "codemirror_mode": {
    "name": "ipython",
    "version": 3
   },
   "file_extension": ".py",
   "mimetype": "text/x-python",
   "name": "python",
   "nbconvert_exporter": "python",
   "pygments_lexer": "ipython3",
   "version": "3.9.7"
  }
 },
 "nbformat": 4,
 "nbformat_minor": 2
}
