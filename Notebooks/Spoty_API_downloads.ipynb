{
 "cells": [
  {
   "cell_type": "code",
   "execution_count": 4,
   "metadata": {},
   "outputs": [],
   "source": [
    "import config"
   ]
  },
  {
   "cell_type": "code",
   "execution_count": 263,
   "metadata": {},
   "outputs": [],
   "source": [
    "import spotipy\n",
    "import json\n",
    "from spotipy.oauth2 import SpotifyClientCredentials"
   ]
  },
  {
   "cell_type": "code",
   "execution_count": 264,
   "metadata": {},
   "outputs": [],
   "source": [
    "sp = spotipy.Spotify(auth_manager=SpotifyClientCredentials(client_id=config.client_id, client_secret=config.client_secret))"
   ]
  },
  {
   "cell_type": "code",
   "execution_count": 265,
   "metadata": {},
   "outputs": [
    {
     "data": {
      "text/plain": [
       "20"
      ]
     },
     "execution_count": 265,
     "metadata": {},
     "output_type": "execute_result"
    }
   ],
   "source": [
    "categories = [i['id'] for i in sp.categories()['categories']['items']]\n",
    "len(categories)\n",
    "# list of strings"
   ]
  },
  {
   "cell_type": "code",
   "execution_count": 288,
   "metadata": {},
   "outputs": [
    {
     "data": {
      "text/plain": [
       "['toplists',\n",
       " 'pop',\n",
       " 'workout',\n",
       " 'mood',\n",
       " 'hiphop',\n",
       " 'summer',\n",
       " 'party',\n",
       " 'edm_dance',\n",
       " 'frequency',\n",
       " 'alternative',\n",
       " '0JQ5DAqbMKFPw634sFwguI',\n",
       " 'at_home',\n",
       " 'netflix',\n",
       " 'indie_alt',\n",
       " 'pride',\n",
       " 'wellness',\n",
       " 'rock',\n",
       " 'throwback',\n",
       " 'radar',\n",
       " 'rnb']"
      ]
     },
     "execution_count": 288,
     "metadata": {},
     "output_type": "execute_result"
    }
   ],
   "source": [
    "categories"
   ]
  },
  {
   "cell_type": "code",
   "execution_count": 220,
   "metadata": {},
   "outputs": [],
   "source": [
    "# list of dict of playlists per category:\n",
    "list_o_dics = [sp.category_playlists(category, country='US', limit=19) for category in categories]"
   ]
  },
  {
   "cell_type": "code",
   "execution_count": 223,
   "metadata": {},
   "outputs": [],
   "source": [
    "plist_ids = []"
   ]
  },
  {
   "cell_type": "code",
   "execution_count": 225,
   "metadata": {},
   "outputs": [],
   "source": [
    "for dic in list_o_dics:\n",
    "    for playlist in dic['playlists'].items():\n",
    "        for i in playlist:\n",
    "            if type(i) == list and (len(i)) > 0:\n",
    "                for j in i:\n",
    "                    plist_ids.append(j['id'])\n",
    "                    "
   ]
  },
  {
   "cell_type": "code",
   "execution_count": 289,
   "metadata": {},
   "outputs": [
    {
     "data": {
      "text/plain": [
       "['37i9dQZF1DXcBWIGoYBM5M',\n",
       " '37i9dQZF1DX0XUsuxWHRQd',\n",
       " '37i9dQZF1DXcF6B6QPhFDv',\n",
       " '37i9dQZF1DX4dyzvuaRJ0n',\n",
       " '37i9dQZF1DX1lVhptIYRda',\n",
       " '37i9dQZF1DX10zKzsJ2jva',\n",
       " '37i9dQZF1DX4SBhb3fqCJd',\n",
       " '37i9dQZEVXbLRQDuF5jeBp',\n",
       " '37i9dQZEVXbMDoHDwVN2tF',\n",
       " '37i9dQZEVXbLiRSasKsNU9',\n",
       " '37i9dQZEVXbKuaTI1Z1Afx',\n",
       " '37i9dQZF1DX4JAvHpjipBk',\n",
       " '37i9dQZF1DXcBWIGoYBM5M',\n",
       " '37i9dQZF1DX0kbJZpiYdZl',\n",
       " '37i9dQZF1DWWvvyNmW9V9a',\n",
       " '37i9dQZF1DWUa8ZRTfalHk',\n",
       " '37i9dQZF1DX4JAvHpjipBk',\n",
       " '37i9dQZF1DX5Vy6DFOcx00',\n",
       " '37i9dQZF1DXbYM3nMM0oPk',\n",
       " '37i9dQZF1DXa2PvUpywmrr',\n",
       " '37i9dQZF1DX0s5kDXi1oC5',\n",
       " '37i9dQZF1DX66m4icL86Ru',\n",
       " '37i9dQZF1DX5gQonLbZD9s',\n",
       " '37i9dQZF1DWTwnEm1IYyoj',\n",
       " '37i9dQZF1DX2L0iB23Enbq',\n",
       " '37i9dQZF1DWSqBruwoIXkA',\n",
       " '37i9dQZF1DX4pUKG1kS0Ac',\n",
       " '37i9dQZF1DWYs83FtTMQFw',\n",
       " '37i9dQZF1DX0b1hHYQtJjp',\n",
       " '37i9dQZF1DXbcP8BbYEQaO',\n",
       " '37i9dQZF1DWZQaaqNMbbXa',\n",
       " '37i9dQZF1DX3rxVfibe1L0',\n",
       " '37i9dQZF1DX6GwdWRQMQpq',\n",
       " '37i9dQZF1DX66m4icL86Ru',\n",
       " '37i9dQZF1DX8uc99HoZBLU',\n",
       " '37i9dQZF1DWSqmBTGDYngZ',\n",
       " '37i9dQZF1DWZixSclZdoFE',\n",
       " '37i9dQZF1DX4OzrY981I1W',\n",
       " '37i9dQZF1DWYBO1MoTDhZI',\n",
       " '37i9dQZF1DX0E9XMGembJo',\n",
       " '37i9dQZF1DX7KNKjOK0o75',\n",
       " '37i9dQZF1DWSqBruwoIXkA',\n",
       " '37i9dQZF1DWXLSRKeL7KwM',\n",
       " '37i9dQZF1DXcSzYlwgjiSi',\n",
       " '37i9dQZF1DXdPec7aLTmlC',\n",
       " '37i9dQZF1DWVY5eNJoKHd2',\n",
       " '37i9dQZF1DX3R7OWWGN4gH',\n",
       " '37i9dQZF1DX4fpCWaHOned',\n",
       " '37i9dQZF1DX6VdMW310YC7',\n",
       " '37i9dQZF1DX2sUQwD7tbmL',\n",
       " '37i9dQZF1DX6MAQN3OnFEl',\n",
       " '37i9dQZF1DX4UtSsGT1Sbe',\n",
       " '37i9dQZF1DX4o1oenSJRJd',\n",
       " '37i9dQZF1DX5Ejj0EkURtP',\n",
       " '37i9dQZF1DX3oM43CtKnRV',\n",
       " '37i9dQZF1DX1rVvRgjX59F',\n",
       " '37i9dQZF1DXbTxeAdrVG2l',\n",
       " '37i9dQZF1DXdxUH6sNtcDe',\n",
       " '37i9dQZF1DX1spT6G94GFC',\n",
       " '37i9dQZF1DWTJ7xPn4vNaz',\n",
       " '37i9dQZF1DWXdiK4WAVRUW',\n",
       " '37i9dQZF1DX56bqlsMxJYR',\n",
       " '37i9dQZF1DWWwzidNQX6jx',\n",
       " '37i9dQZF1DWWylYLMvjuRG',\n",
       " '37i9dQZF1DX7e8TjkFNKWH',\n",
       " '37i9dQZF1DX3YMp9n8fkNx',\n",
       " '37i9dQZF1DWXNFSTtym834',\n",
       " '37i9dQZF1DX1uHCeFHcn8X',\n",
       " '37i9dQZF1DX68H8ZujdnN7',\n",
       " '37i9dQZF1DX0XUsuxWHRQd',\n",
       " '37i9dQZF1DX97h7ftpNSYT',\n",
       " '37i9dQZF1DX6GwdWRQMQpq',\n",
       " '37i9dQZF1DX2RxBh64BHjQ',\n",
       " '37i9dQZF1DWY4xHQp97fN6',\n",
       " '37i9dQZF1DX186v583rmzp',\n",
       " '37i9dQZF1DX9oh43oAzkyx',\n",
       " '37i9dQZF1DWVA1Gq4XHa6U',\n",
       " '37i9dQZF1DWT5MrZnPU1zD',\n",
       " '37i9dQZF1DX76t638V6CA8',\n",
       " '37i9dQZF1DX6OgmB2fwLGd',\n",
       " '37i9dQZF1DXaxIqwkEGFEh',\n",
       " '37i9dQZF1DWTJzNR1J5ygQ',\n",
       " '37i9dQZF1DWT6MhXz0jw61',\n",
       " '37i9dQZF1DX0Tkc6ltcBfU',\n",
       " '37i9dQZF1DWWXzA48d9shL',\n",
       " '37i9dQZF1DX6xZZEgC9Ubl',\n",
       " '37i9dQZF1DWYok9l1JL7GM',\n",
       " '37i9dQZF1DWTggY0yqBxES',\n",
       " '37i9dQZF1DWWMOmoXKqHTD',\n",
       " '37i9dQZF1DWUFmyho2wkQU',\n",
       " '37i9dQZF1DXdOEFt9ZX0dh',\n",
       " '37i9dQZF1DWSThc8QnzIme',\n",
       " '37i9dQZF1DWYs83FtTMQFw',\n",
       " '37i9dQZF1DWTkxQvqMy4WW',\n",
       " '37i9dQZF1DWU13kKnk03AP',\n",
       " '37i9dQZF1DX206LSYrawGc',\n",
       " '37i9dQZF1DX9uKNf5jGX6m',\n",
       " '37i9dQZF1DXdejmG21jbny',\n",
       " '37i9dQZF1DWZqd5JICZI0u',\n",
       " '37i9dQZF1DWXe9gFZP0gtP',\n",
       " '37i9dQZF1DXcBbGCLlic3p',\n",
       " '37i9dQZF1DX76Wlfdnj7AP',\n",
       " '37i9dQZF1DX5gQonLbZD9s',\n",
       " '37i9dQZF1DX76t638V6CA8',\n",
       " '37i9dQZF1DX4eRPd9frC1m',\n",
       " '37i9dQZF1DX9oh43oAzkyx',\n",
       " '37i9dQZF1DWTl4y3vgJOXW',\n",
       " '37i9dQZF1DWUVpAXiEPK8P',\n",
       " '37i9dQZF1DWTDafB3skWPN',\n",
       " '37i9dQZF1DWYNSm3Z3MxiM',\n",
       " '37i9dQZF1DX70RN3TfWWJh',\n",
       " '37i9dQZF1DX8CwbNGNKurt',\n",
       " '37i9dQZF1DWSJHnPb1f0X3',\n",
       " '37i9dQZF1DXdxcBWuJkbcy',\n",
       " '37i9dQZF1DXe6bgV3TmZOL',\n",
       " '37i9dQZF1DX5OUjSS1OMgV',\n",
       " '37i9dQZF1DX3ZeFHRhhi7Y',\n",
       " '37i9dQZF1DX0HRj9P7NxeE',\n",
       " '37i9dQZF1DX9uKNf5jGX6m',\n",
       " '37i9dQZF1DX4esiqDZ1sjJ',\n",
       " '37i9dQZF1DX0MLFaUdXnjA',\n",
       " '37i9dQZF1DX2yvmlOdMYzV',\n",
       " '37i9dQZF1DX504r1DvyvxG',\n",
       " '37i9dQZF1DWTwnEm1IYyoj',\n",
       " '37i9dQZF1DWTkxQvqMy4WW',\n",
       " '37i9dQZF1DWWQRwui0ExPn',\n",
       " '37i9dQZF1DX4WYpdgoIcn6',\n",
       " '37i9dQZF1DWV7EzJMK2FUI',\n",
       " '37i9dQZF1DWVFeEut75IAL',\n",
       " '37i9dQZF1DX6VdMW310YC7',\n",
       " '37i9dQZF1DX0SM0LYsmbMT',\n",
       " '37i9dQZF1DWT7XSlwvR1ar',\n",
       " '37i9dQZF1DX6ALfRKlHn1t',\n",
       " '37i9dQZF1DX1uHCeFHcn8X',\n",
       " '37i9dQZF1DX9j444F9NCBa',\n",
       " '37i9dQZF1DX889U0CL85jj',\n",
       " '37i9dQZF1DWYGZAMYFDM8S',\n",
       " '37i9dQZF1DXcgZcN2HVMoe',\n",
       " '37i9dQZF1DWYoYGBbGKurt',\n",
       " '37i9dQZF1DXa2PvUpywmrr',\n",
       " '37i9dQZF1DWY4xHQp97fN6',\n",
       " '37i9dQZF1DXaXB8fQg7xif',\n",
       " '37i9dQZF1DWWXrKtH3fzUd',\n",
       " '37i9dQZF1DX6GwdWRQMQpq',\n",
       " '37i9dQZF1DX66m4icL86Ru',\n",
       " '37i9dQZF1DXcSzYlwgjiSi',\n",
       " '37i9dQZF1DX8ky12eWIvcW',\n",
       " '37i9dQZF1DWWylYLMvjuRG',\n",
       " '37i9dQZF1DX7e8TjkFNKWH',\n",
       " '37i9dQZF1DWXti3N4Wp5xy',\n",
       " '37i9dQZF1DWTmGGCbcoQhY',\n",
       " '37i9dQZF1DXdxTsNp0Bzwq',\n",
       " '37i9dQZF1DWVcbzTgVpNRm',\n",
       " '37i9dQZF1DWSUur0QPPsOn',\n",
       " '37i9dQZF1DXaKCgD4mJwbN',\n",
       " '37i9dQZF1DXbdrcAZnP3Cy',\n",
       " '37i9dQZF1DX0Uv9tZ47pWo',\n",
       " '37i9dQZF1DWUq3wF0JVtEy',\n",
       " '37i9dQZF1DX2Nc3B70tvx0',\n",
       " '37i9dQZF1DXdbXrPNafg9d',\n",
       " '37i9dQZF1DWWBHeXOYZf74',\n",
       " '37i9dQZF1DXdwmD5Q7Gxah',\n",
       " '37i9dQZF1DX4OzrY981I1W',\n",
       " '37i9dQZF1DX8uc99HoZBLU',\n",
       " '37i9dQZF1DX1dvMSwf27JO',\n",
       " '37i9dQZF1DX2sUQwD7tbmL',\n",
       " '37i9dQZF1DXcxvFzl58uP7',\n",
       " '37i9dQZF1DX26DKvjp0s9M',\n",
       " '37i9dQZF1DWYzpSJHStHHx',\n",
       " '37i9dQZF1DWWEcRhUVtL8n',\n",
       " '37i9dQZF1DXaLaoaQqrfyO',\n",
       " '37i9dQZF1DX9LbdoYID5v7',\n",
       " '37i9dQZF1DX59NCqCqJtoH',\n",
       " '37i9dQZF1DX873GaRGUmPl',\n",
       " '37i9dQZF1DX30HHrCAl4ZG',\n",
       " '37i9dQZF1DWVV27DiNWxkR',\n",
       " '37i9dQZF1DX7HOk71GPfSw',\n",
       " '37i9dQZF1DXcF6B6QPhFDv',\n",
       " '37i9dQZF1DWVqJMsgEN0F4',\n",
       " '37i9dQZF1DX82GYcclJ3Ug',\n",
       " '37i9dQZF1DWT2jS7NwYPVI',\n",
       " '37i9dQZF1DWXRqgorJj26U',\n",
       " '37i9dQZF1DX3oM43CtKnRV',\n",
       " '37i9dQZF1DX1rVvRgjX59F',\n",
       " '37i9dQZF1DX1spT6G94GFC',\n",
       " '37i9dQZF1DX9wa6XirBPv8',\n",
       " '37i9dQZF1DXb3m918yXHxA',\n",
       " '37i9dQZF1DWWwzidNQX6jx',\n",
       " '37i9dQZF1DXasneILDRM7B',\n",
       " '37i9dQZF1DWWH0izG4erma',\n",
       " '37i9dQZF1DX3YMp9n8fkNx',\n",
       " '37i9dQZF1DX11ghcIxjcjE',\n",
       " '37i9dQZF1DWY1j3jZdCWOQ',\n",
       " '37i9dQZF1DWT3pfwRgyQMA',\n",
       " '37i9dQZF1DWYN0zdqzbEwl',\n",
       " '37i9dQZF1DX6xOPeSOGone',\n",
       " '37i9dQZF1DX4dyzvuaRJ0n',\n",
       " '37i9dQZF1DX8tZsk68tuDw',\n",
       " '37i9dQZF1DX8CopunbDxgW',\n",
       " '37i9dQZF1DX1kCIzMYtzum',\n",
       " '37i9dQZF1DXa2PvUpywmrr',\n",
       " '37i9dQZF1DX4eRPd9frC1m',\n",
       " '37i9dQZF1DX6VdMW310YC7',\n",
       " '37i9dQZF1DWSf2RDTDayIx',\n",
       " '37i9dQZF1DX0AMssoUKCz7',\n",
       " '37i9dQZF1DXcZDD7cfEKhW',\n",
       " '37i9dQZF1DX0BcQWzuB7ZO',\n",
       " '37i9dQZF1DWXLeA8Omikj7',\n",
       " '37i9dQZF1DXaXB8fQg7xif',\n",
       " '37i9dQZF1DX7D8GQsPKGvy',\n",
       " '37i9dQZF1DX1OIMC8iDi74',\n",
       " '37i9dQZF1DX0hvSv9Rf41p',\n",
       " '37i9dQZF1DXa8NOEUWPn9W',\n",
       " '37i9dQZF1DX0pH2SQMRXnC',\n",
       " '37i9dQZF1DX6GJXiuZRisr',\n",
       " '37i9dQZF1DXbm6HfkbMtFZ',\n",
       " '37i9dQZF1DXb83YJL7gTWj',\n",
       " '37i9dQZF1DXab8DipvnuNU',\n",
       " '37i9dQZF1DX6kz6Kli3wib',\n",
       " '37i9dQZF1DXbIbVYph0Zr5',\n",
       " '37i9dQZF1DX4xuWVBs4FgJ',\n",
       " '37i9dQZF1DWXLjydKDJPFJ',\n",
       " '37i9dQZF1DX2FsCLsHeMrM',\n",
       " '37i9dQZF1DWVtmGxs4S4N7',\n",
       " '37i9dQZF1DXauOWFg72pbl',\n",
       " '37i9dQZF1DXatMjChPKgBk',\n",
       " '37i9dQZF1DXbehaqJzJXqw',\n",
       " '37i9dQZF1DX7zd1uDsK3tZ',\n",
       " '37i9dQZF1DWU6MDxlH7Sr1',\n",
       " '37i9dQZF1DX3TPMgP3ojGS',\n",
       " '37i9dQZF1DWT1R6bXL4dyW',\n",
       " '37i9dQZF1DX5QNpvPWsGKY',\n",
       " '37i9dQZF1DWTALrdBtcXjw',\n",
       " '37i9dQZF1DWSujWHEEwoTJ',\n",
       " '37i9dQZF1DX7YCknf2jT6s',\n",
       " '37i9dQZF1DWW2c0C8Vb2IR',\n",
       " '37i9dQZF1DXcWL5K0oNHcG',\n",
       " '37i9dQZF1DWTtzPKJEaTC4',\n",
       " '37i9dQZF1DWV7EzJMK2FUI',\n",
       " '37i9dQZF1DX0SM0LYsmbMT',\n",
       " '37i9dQZF1DXdwTUxmGKrdN',\n",
       " '37i9dQZF1DXbITWG1ZJKYt',\n",
       " '37i9dQZF1DWVqfgj8NZEp1',\n",
       " '37i9dQZF1DX4wta20PHgwo',\n",
       " '37i9dQZF1DX71VcjjnyaBQ',\n",
       " '37i9dQZF1DWXHghfFFOaS6',\n",
       " '37i9dQZF1DWYxwmBaMqxsl',\n",
       " '37i9dQZF1DWTR4ZOXTfd9K',\n",
       " '37i9dQZF1DX2vYju3i0lNX',\n",
       " '37i9dQZF1DXbehaqJzJXqw',\n",
       " '37i9dQZF1DX949uWWpmTjT',\n",
       " '37i9dQZF1DWT4nLmUaFDGb',\n",
       " '37i9dQZF1DWUb0uBnlJuTi']"
      ]
     },
     "execution_count": 289,
     "metadata": {},
     "output_type": "execute_result"
    }
   ],
   "source": [
    "plist_ids"
   ]
  },
  {
   "cell_type": "code",
   "execution_count": 237,
   "metadata": {},
   "outputs": [],
   "source": [
    "song_ids = []"
   ]
  },
  {
   "cell_type": "code",
   "execution_count": 250,
   "metadata": {},
   "outputs": [],
   "source": [
    "for plist_id in plist_ids:\n",
    "    playlist = sp.playlist_items(plist_id, limit=50, market = 'US')\n",
    "    for item in playlist['items']:\n",
    "        try:\n",
    "            song_ids.append(item['track']['id'])\n",
    "        except:\n",
    "            pass"
   ]
  },
  {
   "cell_type": "code",
   "execution_count": 255,
   "metadata": {},
   "outputs": [
    {
     "data": {
      "text/plain": [
       "7965"
      ]
     },
     "execution_count": 255,
     "metadata": {},
     "output_type": "execute_result"
    }
   ],
   "source": [
    "len(set(song_ids))"
   ]
  },
  {
   "cell_type": "code",
   "execution_count": null,
   "metadata": {},
   "outputs": [],
   "source": [
    "a_list = [\"abc\", \"def\", \"ghi\"]\n",
    "textfile = open(\"a_file.txt\", \"w\")\n",
    "for element in a_list:\n",
    "textfile. write(element + \"\\n\")\n",
    "textfile. close()"
   ]
  },
  {
   "cell_type": "code",
   "execution_count": 256,
   "metadata": {},
   "outputs": [],
   "source": [
    "file = open('../Data/song_ids.txt', 'w')\n",
    "for i in set(song_ids):\n",
    "    file.write(i + '\\n')\n",
    "file.close()"
   ]
  },
  {
   "cell_type": "code",
   "execution_count": 257,
   "metadata": {},
   "outputs": [],
   "source": [
    "file = open('../Data/song_ids.txt', 'r')"
   ]
  },
  {
   "cell_type": "code",
   "execution_count": 258,
   "metadata": {},
   "outputs": [
    {
     "data": {
      "text/plain": [
       "7965"
      ]
     },
     "execution_count": 258,
     "metadata": {},
     "output_type": "execute_result"
    }
   ],
   "source": [
    "len([i for i in file])"
   ]
  },
  {
   "cell_type": "code",
   "execution_count": 260,
   "metadata": {},
   "outputs": [],
   "source": [
    "file.close()"
   ]
  },
  {
   "cell_type": "code",
   "execution_count": 398,
   "metadata": {},
   "outputs": [
    {
     "data": {
      "text/plain": [
       "126"
      ]
     },
     "execution_count": 398,
     "metadata": {},
     "output_type": "execute_result"
    }
   ],
   "source": [
    "genres = sp.recommendation_genre_seeds()['genres']\n",
    "len(genres)"
   ]
  },
  {
   "cell_type": "code",
   "execution_count": null,
   "metadata": {},
   "outputs": [],
   "source": [
    "# TODO\n",
    "# √ exteract artist \n",
    "# get his top songs"
   ]
  },
  {
   "cell_type": "code",
   "execution_count": null,
   "metadata": {},
   "outputs": [],
   "source": [
    "# get racommended songs for each genre"
   ]
  },
  {
   "cell_type": "code",
   "execution_count": 281,
   "metadata": {},
   "outputs": [],
   "source": [
    "file = open('../Data/plists.txt', 'w')\n",
    "for i in plist_ids:\n",
    "    file.write(str(i)+', ') "
   ]
  },
  {
   "cell_type": "code",
   "execution_count": 282,
   "metadata": {},
   "outputs": [],
   "source": [
    "file.close()"
   ]
  },
  {
   "cell_type": "markdown",
   "metadata": {},
   "source": [
    "a = sp.playlist_tracks('37i9dQZF1DXcBWIGoYBM5M', market='US')"
   ]
  },
  {
   "cell_type": "code",
   "execution_count": null,
   "metadata": {},
   "outputs": [],
   "source": [
    "artist_ids = [i['track']['artists'][0]['id'] for i in a['items']]\n",
    "artist_ids"
   ]
  },
  {
   "cell_type": "code",
   "execution_count": 385,
   "metadata": {},
   "outputs": [],
   "source": [
    "genres_top50s = dict()"
   ]
  },
  {
   "cell_type": "code",
   "execution_count": 399,
   "metadata": {},
   "outputs": [
    {
     "name": "stdout",
     "output_type": "stream",
     "text": [
      "['1U2NsgEtlufc9QzQQkbS9p', '6SNL798U9yLuGPnC7kaSg8', '1DZS5jjNsCTL5h56vZjOD3', '5XfShxH7r7jeCfdYw59EOi', '01VSHxfYF9HH7gnLPXXU1F', '3kGlcqcnC3SHCh5OgGkh2T', '0efrhEVW0olQs2lXApEpQP', '7HYyI1H9Y6WYD86msWu7oE', '78TsED9yefUzMja4mxo4PA', '25WATieNAKnnoKkzxHZeog', '2MNxuS83nUvQv2BJGkQxas', '2Er0f1mhO0g1rov9Cdi5Wk', '7LemYg0ucf5VOYFRIjWGmg', '0wtLyvkwd4gjXfkMbNvCYZ', '4S6IGMcJoES3ENCissevR3', '2iUR6zCUCpiR6Ka7lbxoYy', '6wpDQGn3Gl0j9Wt6D6mYvQ', '1mPxnRE27rAiLIXrxwKe7Q', '6YnmIZdFl96eWwilHwFLOl', '4NC7Sq9YBEfeDIJkzBgUYC', '0gzRfGVTItaLNSNjtfTeDn', '6TlHQWUuhHjlSMvIi4De5g', '2YcaR7pWeQgFCcBbILYc8i', '1APqkAe0IqPjeJWCze9AhK', '2Nx59l6QwvHUMyM3xTGwT8', '3ZEWwBp9uRY6Xq17BX3m4I', '7oHJkFZQ2hUZF8SkeJupIp', '2XYCBms2C09oYZsOhXnok5', '3nichE9X9wwy1pBeQEVjp6', '1vdGCM1NFzX1HyFFgNz26z', '1FfPenUnvZFQvC0ZmtdbBX', '4Bd8jSFBXHC1K7JAKW9Ojm', '6D2KNRIWHKH8rUSno2TZ9a', '3BP4mgJPaPXnwkNq0MrdYi', '2QfTbUxTuKv8Rf9bTrRAgL', '6epk3CFEIOroJGuDxsKrF8', '6Bm8b9G2jXP87R9JiqmA3F', '1S33LknYXfVJJYjQLcw45l', '2wNs0eBXiEgJHIiOrpnnoZ', '2VvvGYUy2KT7DWI38wQsum', '5rJrHMEHeYhRwmLzpFbBso', '6L1R7x0Qvy3XkqazoaKcTi', '5Wa0BT8lGkQq755dfZrZJG', '3g6kWLx16MIjwgCp9jRtUi', '0qtMuvQLzNmWUnshdlKkwY', '3X9Igbb3O29YC6IKFeoGxx', '2x6usZA1U6sWdRrlXbbTN5', '2qFQswMLcb6kBjlGOuvhMv', '5ZKCUMzsQavEeo36k1NXcY', '7LTubC1b644a6Ns7IUwTFK']\n",
      "['602QT8hTuTVA4aSQWR13LB', '24TOhhpJeIGCxqGjXg3Cn3', '3SMBkwzUjtKuNHTJFuIdec', '6GLG8G38zxOdzlMqUuTOQN', '3RiBRjMbyN8iWXgfvTtJZy', '0bgUX55KW4M6L0UsyHOx1G', '3bidbhpOYeV4knp8AIu8Xn', '3DTBV95Asn4QvFAId13M0t', '2Qht2oGrQU8XTvH4QzTZPQ', '3NzdDs8gDR7e8hoxbJ0CxP', '3BndetWdcRt5JTaZaPO4Gg', '03Ne1yhU0GsvxS6PChRCpe', '1g0hqjV5FMEm5jBDdM2DbS', '5FpRRYLiHvFeiTFpY6lMep', '54nWY3Bw4Fftpo6taJeeBa', '6SFNx6xXcRVPvvcxnDvwAa', '11gui2q9u8RUYnNV8IN2Km', '4687wJtemaLw0oFVeTuvKB', '19eQWCG7R2ue0tdkXoW1zN', '5F6YTX82xJusxc54yWvP94', '4rXC5hvQ8mGWCLjl2Ufsfp', '1JxoscvKlScsXsfqPJ1CXn', '5pSxOv6lbvdz2fddSUPdSA', '48zDWKZmkWnllYyyMOtZaU', '3E61ra5VUF6eu3tpfsXfou', '1If7hAewvid9naENhK0yak', '5uIJaCKb3HEzWvQvWkqqmT', '601ji86zVO0LDDZGjECOaj', '4KevwsG5wE0psBg2hpWseV', '3WNoiK4VfbnIHw533iyDZ8', '78xnzdrdQ0yYwoZ8rOAE3e', '3FtYbEfBqAlGO46NUDQSAt', '5nrM5sdFikmoOLH78XW3i2', '0ZOo3SN9PGXXLyC5540Qh4', '3B0VU544mmwynbHinTjJP3', '1itAtNJo3B4wIQMiuOPPct', '3KVk5bReD56nItFE7K2zyT', '2Rqi3Kmf9T0LRTddbYvduO', '3zmXCcrMKpGho2sTRZG1Ux', '1dJIDDItPSZXCDo7jTcLHi', '72HxkQFPmxlvJ8YZUKyKIj', '06XPZNjnPt90Y4cAIqPN19', '4ZB1Kpvo8WjGbIbyUXyG2z', '1dp68ljqS90EO53ABNUaAS', '4jPfq0Nbmrx5AoRhc7K3sf', '7slIkUpyu69rBbiNalWAiS', '4mwdlY51tZ6QI8azF9KOL7', '6kwSLsiLoDTdXUZtaMqGbX', '0O61hX5JMiTxVsboHFeFpc', '2uxXFl2AgH2R9vDLNPTMZ1']\n",
      "['5706T4zCotEsJmqqGtEpBv', '5kqIPrATaCc2LqxVWzQGbk', '2HJQcyUpmUuvzS5vBAICIc', '1qKDjasAnswlbgBsOd8DJp', '7ciLq0Cip0yxiz6KANrOUq', '72ZxxtVWKGiICLhyL2Fcix', '3A2XKObGNiNjSZlQVv8Tq0', '27eKJ4RlK36novSUJQXlVH', '3oxkOzC4pgz7XMXYORTm1I', '4X2xkFnNZ4aVoZq67tvDU8', '62PaSfnXSMyLshYJrlTuL3', '0aersVHlGGXcHeRvHtuaSt', '1vN2yV1aOQ6uJvEpJ5GYc0', '6OXU517AeB6iYEMy10rRmr', '6AVV9jR1aEtHiYTrRzdETV', '14KXQU8N4mD0g1enS8F1HQ', '6SSKR7x2un743k1L31c5bk', '1kDVtWMDT5RnXHvymKgTyd', '3px2rAPu74ltbkf9eZsZ8h', '3UWMvlNnUHjY48CfhvfOOg', '2hr3kqWd9MJ1sWAhgCpzQf', '09CtPGIpYB4BrO8qb1RGsF', '6dMEkiUUCt09BeeSVgIkao', '1tSZL8hRpFVMa4eKOs3f7Z', '1hNZc5mqtzV8qiYMU5833u', '0vXYHIX8tnarRm1wtQGukH', '5b0QOGqikWl9VZ3H3uHrUb', '4Y4hyK60i3xU3pprXx8gZo', '1PhvTwusCB7hHCLrP8mrll', '6TaqooOXAEcijL6G1AWS2K', '4fMJ7vHNzhd3Gaxx4Jxxbq', '0375PEO6HIwCHx5Y2sowQm', '7GoYMYxiHGB81biFSyCJqM', '6QeJEhEoMNqsn2yhCvG3jc', '6q0VwXmZtBkNfkKSRRO1hv', '6Epdo0hJlIF5Mm2mrjv2sd', '4NtdkNudAf9vuF9zzpeJiL', '0T8WcoofVcIw7nv9voAnOA', '0X9vr7owjJaxiAjJTsn04q', '3tAOuUooTxD5ucTQ4RgMtM', '6QS5GEuM3Nyowck5PawQvL', '3R2bkLqP197fl3vKHpONrg', '1xi7L6YU6TRzXgh2rogz1h', '5PMbYk8qnxHk11VC8vKsF3', '0EaqTZtx0wyKBT1VluOtCi', '2yBXFeBsYHXI9uqXewILuv', '48MntU3zSVgU5ZOWhdsWqP', '1CzLhaLoxKmfICepLtWEJF', '4v1CvZazmdpxQLEt3sCeKH']\n",
      "['3L0Qb0GrB9e447rbMFiCxe', '3dnkvrL1rAkvZXBQxAodUP', '3Lor5a6lXWrrVNAOKdTEYn', '0DWGhcFz1KCkxeFSCFoflq', '4m5rO8vfR0H6V4J8sKTU2J', '0TuCdn12Iuppj1lTZQD3EA', '2aR91gIVD9rIsUMeW2nVOD', '1RVNRLlmQjU6eQqcdgsTKo', '7xtuvlqhEJdGwRAtsdMmh6', '4pNWLE7uTIoA4v4NNdOvPb', '7idRPUw8IWVEcOu6qiaYmM', '1fIgBBYENzcSgWLOiqxovD', '18bDQPwSz4D72o0FXeSY7l', '4DaYnGimDd5oNcd5CxoMSh', '3hV9FNIZCu3wRwY3ojFEZn', '3YYUmw4asVeqUlkJMKPfzW', '3Biuvi5NQdNpi2OiTgWNK4', '1yjKHqAOyKWFCZgxE2ivbM', '4i8ip23w8MoAZYBSbQMHmx', '1KvAmS9jd8IT0O4qxhGsSc', '03HJfQjXtsap4GexCJ87Rz', '0HcoayoHI3H0Ycdx1FvVFK', '5HSqvsrBKVgEtaS5LgvAeN', '15VHwDyKrApei6tl4Xy7Lr', '2RJ3NGlBXYvYpnk40YZcbo', '4S1IJXZov04AMU9qOHxY2E', '4jAI86VIBB7xlaKEzWL1og', '6uOpnY4XH0P0dV8zmt7FvP', '71zYovKYHh6IfinHZwlYJY', '3LUQR6NIQtik6yechN5Aho', '1beMeys0gR3c17jLqlB6I7', '63jF0RnkxHsRrK4rVgWnBr', '71x9JkKSVrsjGnwJyHorwH', '0f7Fj7A7gXAlWlkHpmai0j', '0zrpczV6BD4hopivjRyRHk', '5ScdrwLVHqRAxRjsk9RqVg', '2UiUIVlKxqT1IkwnSvBt14', '0uque2GLKvGJWnJhqB1ri3', '39MFTOdzDOQFNOfD2bWpQ0', '2TwpEmt8qooo1VGFTdQ2eq', '5GV1iMx1ReavSPOAKJFeal', '27xSqUJAaIhjG6haHfjS7c', '57XBv3bue1R4EfHZLNtvDc', '3CBUkEDHMps56o3PfKVyn7', '79n5XSMDM8GKbFC2r8XdNF', '7L85S4yCtGhsKowTVKTZPz', '4I7TVv8vzcDhmuxIzVGE7q', '1Zcb2dPEFvjYwgGKMw3zs5', '1OBjsSLqKMeNMwICkEHcmY', '3gdVKct9eIhEQKxQCBbMmN']\n",
      "['1wWwIwO2GdnDfvUywsAJhl', '1UXanfz2RUi6lV49SUijCf', '5isTw4twDjzCZAnfpW1e6z', '6Oyofsk2M2OFOL09jY3dOd', '6KJJpEyPlgK8ZwOfffR9ij', '2F78GssULHxdDvvjulwNQV', '7iBtwchF7mIEAssqV3k6X5', '0xOmhLR2CkxLjybRPd9uNw', '2ng7xPqLGVI0qmMHraMFIU', '5XY66SW0OXDqXXtLqQLqEj', '2aRHTNUq9C6HEmymEj09xf', '7rqJoiJM2thYoXsT0i9g6P', '5K0OrDk6Ep5IXwhbXLFaGQ', '53Chez1eLKTFpagT8Eea8G', '79kVzcjBMmQQAk4e7MOU6H', '0nlBLZ66pDPop3JCcipCs9', '1heR9QDRERteiqBBsi3fLM', '5NqAPnASGlRb0Ny4FwUYZH', '33l2D4wC8unydaNjQRRN1O', '2kMrjMAmaebfX7JiwDWA3Q', '25hjmmSe7Ybchix22E0MEw', '2wnGE7PTVV4LKc6jbkTGcm', '21kcfuLCJN7zmUnLBabaBp', '615MCAYTKhb6TPtxQpG4m9', '2hQkvrPNhwimFMy5TtFnsi', '4OKUvHejpbczRarK6VzZxL', '6FRnX129aKQs1O9suxc69S', '1Cn42z1q8r9hGECUFHBzQo', '2rFaizZQlC1mUy9orrnEK2', '66PlG0p0tSryA2098pmBvE', '5EBE1lId7XvVxNYzaDr4iq', '6OhwpuP3UoYwfyPP2OpLiy', '7clZ3fl3rvqhLbSOfEgbk5', '01seDAuyGMSaOtjZavBcnu', '3rbpdn9eiqXotLoiuF2oTi', '1z84ku4mjnUoBTcmiuFYsp', '3VL9nCr9DGX9BWYBxB2FVG', '1ul5m3tLMLDBKtxGLDQ26V', '0QXjXo3ICP2MPztwjbGvSZ', '0DsXyECuTALaSASTBTULks', '3H7ZuiK5qVl6xXwAvBA82u', '4iNbSV91PvITFIHOlh36Sz', '1LX1DnaBwnbankVaoulzdB', '52NFgCjGw7oZKIBABYKLPG', '2Nf2hBnhRIjY4kR5vkcfvw', '4OB2F01FVAftaBZr5dKQkI', '52NM8alcaVAejBlIU0KO6Y', '6tbsWgoL0r23dP1850zvKX', '45PD1shJcUVckmslQycpEL', '5uQxF5Bc8ekosDiOu9CENO']\n",
      "['0n4bITAu0Y0nigrz3MFJMb', '6cRqxXoY6esNiFaOnl4EiC', '62N2JSA0jHmSH7Va9t7hIf', '7DTlsMOQjGysXHpwwpHuPl', '3ZUMC5OazTA8QtLpdlPdz9', '3QLjDkgLh9AOEHlhQtDuhs', '27ZhKzjHoE0UUlyMXu0ZFa', '2wqaekenSQZm7hxQOYt8oE', '01XFgRZfZI7oBagNf1Loml', '5QcSDOm6mcvFDl7KBT1fHv', '6vSq5q5DCs1IvwKIq53hj2', '0VffaI2jwQknRrxpECYHsF', '1YTO55iUyFqx1QgcWXArLB', '6dDIOU6AqgLkrjFNPgvKY6', '24YpJsdgTYhUmVbAE8spH4', '0qwcGscxUHGZTgq0zcaqk1', '5wh4F70PB147MGSf03EUwi', '4kte3OcW800TPvOVgrLLj8', '0aBKFfdyOD1Ttvgv0cfjjJ', '457p7UH7hoHrbA2iI4PSCA', '7aaeZpSr54XQKSwMYO5JeH', '2igwFfvr1OAGX9SKDCPBwO', '5T6DM9qjjngWnukcw0svkX', '3m8CQnnfJJp4eQMWWl3zay', '4h1T8pUzl9VtudWWlVAxxz', '2XgGdD5d2MW4RNx8KnIjVh', '6JVroX8e45PFqUKuVkLgPs', '6ScJMrlpiLfZUGtWp4QIVt', '0fGh0trRN1xz3s41r7V5ce', '1IAzD1muglOxOcPbUHs70R', '5TRPicyLGbAF2LGBFbHGvO', '2dOGYtojJQzZcApzYmmb6I', '2taRjStEzM0nXEZFoPBraO', '5maiP9UMnTSgoxPX8X3bdz', '6PtmdbZEEv7XReUEVQSmmL', '20FZrLl9zSbO9b3DhaqO6M', '01uqI4H13Gsd8Lyl1EYd8H', '5DI9jxTHrEiFAhStG7VA8E', '1gpF8IwQQj8qOeVjHfIIDU', '4NpDZPwSXmL0cCTaJuVrCw', '67g3peWMWu7Vbq7aZNe1Ts', '6DkXLzBQT7cwXmTyzAB1DJ', '44CZRkOxv7UItaAUmh8PgN', '5WBnKCEsPwsvWHUZmLjS3s', '6czR937sAtt4KbrZZPCYHA', '5Ssv6DaKrW0HczVqx6zXdl', '6Xe9wT5xeZETPwtaP2ynUz', '5Hroj5K7vLpIG4FNCRIjbP', '5fnA9mkIfScSqHIpeDyvck', '3dFwpxh2yH7C7p9BGEKLVB']\n",
      "['7uuirrtCr8O8fz7kQS6VUR', '57Ur5ZJhZFnWEn49iRAbBX', '6PsXUaqqOwvbS30VeUWEFj', '16sgM1YOnXlUX1mdSRoiQu', '5XgYm8nSL6b1CJUvHvjCtp', '1CiOfiCH8Ueb5gd3M4CdtT', '5HGb45nwq3PLBwShFsrJhe', '5zMR44ZH4KVZj4FlhTj3SE', '4icoqlCr6vbJXj4S1gQaJp', '7IBjI7zHDnbjrHZWJCLint', '3CqtQy2qAPhFTfKERguUh1', '5aLxcpyibUr4FKrCnkI6nO', '5dFWUYnmfiJsIkd5E9CBR6', '1hQhVfLpOQAstwNLwQatPy', '4L6nOuUEOoUPvQIPApU8M2', '0SZod5YOz5RdJKs0Kwr0es', '5w1C59Lzn9ydOH6EYahkTT', '0YjmoYj102qMymlKwnSZzn', '3ddH6vSbwm2IRDKVGAUcRL', '1wFDzMeJAK98oJRdrG7Gmj', '0eIv0JP8PM1H4jiSqnWhr1', '4ekBuSR7a02BWjhcisTAW0', '0eFS4eArQOTwC1bbvW98EG', '3zwafYTRelLPltH1HTlBjB', '2MCFzYZrCJsmHI8BYRy87i', '537ujSBzXH7Utb1Vp3pNoG', '6aDYL0klsShJ1NDScruk2G', '6XmskR1cMfgys1W7dExmgi', '1P7yt2gWqG9zXlhmxGoUXV', '6SHSvo6OGgpneKfsxFGhhk', '5rRVQU51M05KMb7BuF2sq5', '22YqUiAm8RzkVbSCMskE3L', '5bDKiU0VIsv80ejRRKcYN2', '4B6DmCijrg0VLiRzJ9AybX', '7BJQq6b5PwYCIN0ER6Ds8B', '5fywJVQHibGzLd7qztoxxz', '3pGeMszs8vgG4osWUTMEk9', '2ODIyjl0lq1YsSi62DDMOK', '5LgDO5yOrW9oetV9v1UA7F', '7L27335sVPt1pvXv3NHLXg', '3ICHbUmhcAZmmIwMM2ywRy', '4gt5IDk0ypqvzk4dFWx1h4', '7fO7l5Z8yPspcVqffgOi9Y', '110obKR9i5dBeCRdxyz7Q4', '4lEuGfkju3qDWHgn8inAZ9', '0RE3DdG0CQeuy6hZch3Pns', '6oCXyRhf5xzf54NplBs2Pc', '1ptOon4Z7Xq2TKYn9vErBx', '61nHOAZ1GYdDDpPKLUcyNH', '21WPstEKhV1MUtW4bP5t8l']\n"
     ]
    },
    {
     "name": "stdout",
     "output_type": "stream",
     "text": [
      "['6XHSHfCA5ddufMu34bDG4n', '2CAKBNfl7WakeJLWVSxamQ', '6VuXB4kcwQaLxDeXOs1Nyi', '69ZvStI1jhZjDyOZ9e30b7', '3oeAaIKCWXYfIiPfTDsXCc', '42gZM6AQ9BDMaTyTmMDVlN', '2qN92O1OFfigbHvacBUXoc', '0IcFhAtZQqCgdv4ugyjQZx', '5GkvPnH2sZRda9YSk92dcO', '6l8EbYRtQMgKOyc1gcDHF9', '2vHxeotyQDiCsKaYsaDG5P', '7BfVXv3foZvr9SYFig1bPY', '0ZsBRWpZTrOJ1ndfxbCBix', '2fx8kAJqpypWEhi5rkRxMk', '29hUO051Gp5TLwS3MHf8w8', '6CngZA32wwYDbfY0f3pVj2', '1IYRd1v8eU0eKr5qC7aKaD', '1HbzLbsBtRLjGZo6DiirZd', '6Vc5wAMmXdKIAM7WUoEb7N', '59E6rPql7W8q2sodZpg1qQ', '0AIWtvflGsvZQNWqhEmVwY', '6RVorBv9rg0kTfh1ASaDqi', '48KcKfU6tZnIeYIWCCbEyX', '4cdpus6jYvXv9awbbMhghV', '2kD5syyWVi9brndyuckO6R', '1oyfcG3CXziF27Dj6HxF1G', '6NkyjNyS2TAIfgOcEeP0AH', '1XXAqff63KKumpw6plBqgL', '62sebgxLnupowQ9KULc11J', '35fKXUJk1yDn3LVr6MbSHm', '6XJGpirOP4Bgurcvkdanxb', '7DJ7nAEvH4l4HYikU08GRB', '5VfaCxqdQ6nwnnRNLOUnCD', '7xbNxLZn1G1UqfdZS8O8OM', '4ZOqrzUBsCWsx2MnMClUIB', '2bbhyUWJ5VjdfI3P4PRLu2', '23l1kVpqMVREiwU1YAlcr4', '49ygUxuQNzgxOsqZCrnMI3', '1vwEwDzfHlcdZssRaVkhEj', '5nm79AK7tZZ6LeUlDopYTZ', '6GzMz3s0K1YKwRVI36CgRx', '0Dkibk70FDp6t7eOZNemNQ', '6gxycjJNMgmAyfzUXBN80P', '4MXUkZPEmXNUvJyrlehokE', '64Btky9BmYmPea75IWkOx8', '42fPwflffhth4WSbJvDkl4', '203XBlwtARFrE6w7qGtE7s', '6wofHnLw5o6RC3TsUJ38Oi', '448TDbd8RNN1tn8zGPNutD', '617KwmshBRmA8rhXE3eRbw']\n",
      "['58zsLZPvfflaiIbNWoA22O', '6i0V12jOa3mr6uu4WYhUBr', '2ZltjIqztEpZtafc8w0I9t', '5WI2ltQIdwgzf1SNE76JyR', '1c8gk2PeTE04A1pIDH9YMk', '0VgkVdmE4gld66l8iyGjgx', '7i2DJ88J7jQ8K7zqFX2fW8', '0AS63m1wHv9n4VVRizK6Hc', '67awxiNHNyjMXhVgsHuIrs', '6vSwxzO2Qf4BinHSXRwZJe', '01BC4Xj5tfsfV8DLDrma7q', '2BrzlUj1u1CtvaJDGIKpsP', '6yMxfx9wpiuhhdb8vHDVMu', '46ydq5g3k17iLJs3qMDvO6', '4uZBBwJwTJeL3Swlk2ufLr', '2ixsaeFioXJmMgkkbd4uj1', '16Ah4QqH4mgYVXqfC4mdSd', '3VlbOrM6nYPprVvzBZllE5', '4w8niZpiMy6qz1mntFA5uM', '0q75NwOoFiARAVp4EXU4Bs', '6j0teRL3WdExzqmy334sh5', '2rbDhOo9Fh61Bbu23T2qCk', '1g1TeDflB6atAy7HKwrzXu', '2mj7x99sNUsVHPBRK51zlG', '5kqIPrATaCc2LqxVWzQGbk', '43bCmCI0nSgcT7QdMXY6LV', '55h7vJchibLdUkxdlX3fK7', '2Foc5Q5nqNiosCNqttzHof', '6fwdbPMwP1zVStm8FybmkO', '6vN77lE9LK6HP2DewaN6HZ', '27PmvZoffODNFW2p7ehZTQ', '7Ezwtgfw7khBrpvaNPtMoT', '3G6hD9B2ZHOsgf4WfNu7X1', '4hQ6UGyWQIGJmHSo0J88JW', '1P17dC1amhFzptugyAO7Il', '0E8WJOFs2eWD67USh7C6Qd', '3osQ5lSSqZb8HWRozdbVPw', '1Q3bb5UXqAWr7Tjuno2xcq', '6RD9GItAGZ3gbUbx14okHF', '37sINbJZcFdHFAsVNsPq1i', '6Vc5wAMmXdKIAM7WUoEb7N', '5TqBAOIBe0bQA0spNdcG3k', '1cOyWWUr3oXJIxY0AjJEx9', '6OG05bPAwUuV3OMvy2Vy1P', '5vUNRJsvEOUsz4sbKkJpFr', '5DZwnLxHjWTZaz9jOpRhxb', '7bsnTsbiwOymZWjPF9v6Di', '6gBFPUFcJLzWGx4lenP6h2', '762UXiwEHYY97VL45sAUPR', '7mldq42yDuxiUNn08nvzHO']\n",
      "['6g3EtZDHdvss7vmqigJCRJ', '0sLeL8h8khqsUn3fjKPUZa', '3Oa8vnNXStoOHLbJwwMEDP', '7wCmS9TTVUcIhRalDYFgPy', '4p7zxnoKuCoSDRIthID6NT', '3dAy4jvPtlFQvJmuJMYBdU', '6S9lcjREUTU4Yv5y7oMcv2', '21YxK0klhpfLW8budkJaMF', '0i1DZd8BYhdOPebWdF2QLz', '0QeI79sp1vS8L3JgpEO7mD', '7cdnq45E9aP2XDStHg5vd7', '2EGaDf0cPX789H3LNeB03D', '7xQYVjs4wZNdCwO0EeAWMC', '1HOMkjp0nHMaTnfAkslCQj', '2GAIycsMaDVtMtdvxzR2xI', '7Mz9qPB9hp1rXBgXvrVAST', '74JdR9aXE6I74oS1BVRsvb', '3hMHG6lx9QHVcfYSUr5PoM', '2olVm1lHicpveMAo4AUDRB', '0t7ttzoe3dV0mah4lBI2kx', '0hq5mE9kYU4Sy2PpdZwGol', '225xvV8r1yKMHErSWivnow', '1V5Re0Gc3rBsbMnU67NxdQ', '1CM1wOqD2AIjt2MWd31LV2', '6GkTKjv1XbFVdI2D8vvDPu', '2mtVxf50BYsKNtQoz8sfzm', '47oS7xB31QQUyPCgHpM3VZ', '2tAYoHaFbx6e7QOkOkAhrX', '63xdwScd1Ai1GigAwQxE8y', '1mSzuXVjjKC0bPh6iG6xjy', '6zbHSDJjgrNdfIxPyGfPBt', '2OARIMw1hpehr86Iwmv04c', '15MJ5NThPjj6xhPcts8MiY', '3lN8PP6R2IxbLP05QpYXng', '141XsxpUkbj7AkQKT8vySq', '7aKWcQNEIh2vkwOuVKmGNC', '7jmHyHMEqm9MJWiMAneF05', '5NmL2zxnlt9GiTB2TQbvFM', '0NslHuacjxQYfUTOW3HCIV', '4zXa17K83Pp6N2yXdVc2sv', '0rhuzeJs3OHpPjvAsCB8rE', '3FPO2ERIkcn5SxYrCvbpYE', '3Y9wdXMh6sNt9fUwUqTqb7', '6YffUZJ2R06kyxyK6onezL', '2QfiRTz5Yc8DdShCxG1tB2', '5hWLHFSmomXmeTXEE478My', '5Hn7uZqDarw5VTNX1XluV3', '1b7LMtXCXGc2EwOIplI35z', '1Xp8MKmfoFDib6dHM6JF53', '4vS047dAeYGbZzqvqLyBDX']\n",
      "['5EQFTT3JkfqNu2DfILy0rv', '5x0t89IoFPvDddWBAi5P7w', '2Wa0Y1lz2K78YyGseJ6GYY', '5TNR3iGWmWa9E3l0CsyuyJ', '0bOlGUSzodOTQ15MFMOfgb', '01G1ROzJ8n5nnh4fMdSNoA', '5nNMtLl5V7AlZDT8QIdCSm', '6yQEnool8SQZakPL7EhTcd', '0z6adW1KrcX3oJhw3V3UbA', '3jbhoWqExTddKgZbSkuMTK', '3yjUBPHM31Q2juf7XXLCyn', '1EUsBm6AZ9exgwWTRCR0jx', '7sqii6BhIDpJChYpU3WjwS', '1uf7cDcYiFSucDGQVWal9p', '0E15FfqZv1QUc0NSBWMR4x', '1B45Xv5NWejCbiPi3nhkXr', '0rfPtEZmB33dTkOdkeX1LS', '2ufTLtBNW5gHbd7UzZBDOb', '4YjfRIqLnw9CPZMwWLM6oi', '3zBgPi9s8iroxNQ5rNYeQR', '0K9mtIZd3E8redO8uz0KCt', '19dT9fdH3LuCrrjYwq7e6c', '3uWKu1Ayc49lgLi1W2PCKw', '1Gld81gnNCtUX5LvbvPQG2', '33BnSMHgX0AsbKSIbkuMwh', '4qb7e1qTOrnywWpyEgDfho', '5kNBFAhlRSInfzJJzmyniK', '5C5yKFn9GZZLxuQVirzlB7', '6psC59ooTxage8npmtg74G', '0uYAjPRrnswcYRtb2tLXrI', '1kaRM71v90abGzlrBEj2rG', '45KALav2t5vGurvkoWIAsM', '4wFzN7TsvsMVpSkedp5AqN', '6VRhso3hmt2rdYLz7CXAsH', '00Fr8EjvBVGZhnNN0jfHFU', '2fUgKvA1gBeDi8OtkTBc8T', '7IDyFouBHUMk0DZ2YSNEri', '4FnyhQHk9dPzozKyoB5UiB', '58R6kUZMqRs93LOPxwIxds', '1htD0zM4uVZljfHi5QdPW2', '6yK2bbsneMiRmADJ81K3lo', '7wwylFcZQNEUpuCssz1MRd', '3HhRD731esH2jUSzDTqddy', '4xSwNYFGbsqQdJHHmCV1cU', '3Hin08ZU2pBYesFeGz2AMN', '5U0asICCp0eYNUpDBjGTvp', '6s1AJetTo1F2oQw6YMCJoA', '2t0XPiQhdqLSoEHlZ2tMqG', '7aN09z6Tgbd1G32E0KUodZ', '3PHzXcgauSsrZwgIqqjzi9']\n",
      "['0BVMTLlJquKxqhVvXMYfBa', '5EugXICXL06waHgP4iTI58', '7dsGcajKFhmsqg0ZRD6sr6', '7xnUWWTW6H35tMXpRYxjl6', '4ExfBQfuuU0v07p428cmLD', '1a3amdJx37xUYczHN62YsA', '4o7ZPI2fmEi3piRe0Hrfpy', '7e5KPODQV0f3LclrJGAfTw', '41IEj4J5aAgjbPYzX09Icw', '6DoZZLeqihO08cV1kSrdaH', '1MScvM0FgUcY29Te3gcjyt', '5G09UT1QUpWXsTaoCzXZys', '3j8U6OrBD30wOVa6MHCHTi', '32uACGTdxsZ5ZquUzVxuzK', '1UAQ6qdxW1Fx8KJlCqmKtd', '74liEG6WRuWtO5O6duJzvo', '53xhMbWiLFQKul6AJkV3t4', '7fRvtXvJMpGfTLdF0M09a1', '47tr8bcKGDfJjFZzVUuNCG', '4Vb8fzZfCOI351qz1g0ExT', '27e6jzuNB6LKOo9Yeec7q3', '5YhQF2eV8whKNOO0d0JdTz', '276fp3HCFwP78VmXJjCx0p', '3K75MBDLgx60Q6MWEQOIO6', '2GcHVsMSNFADZy2IeWs3am', '4rCWS5j5EtY6PMTLvC1pps', '6pze77TJHCUv1JBjYtqE9E', '1w5qgcwCOfGGE2qIz0p48B', '5uxb9mE0Jd4oEEECxmNxbP', '3yAxx9pGfSMl0Kx4Ob9dsY', '4fi4eli6dGwcIAiIB9y30W', '13JVOEIM2yBp2vTIaiuUNo', '7LdKMBKthcdBnAqlAIGqCB', '2xbR7GqoBAZZtSSU8aFD60', '2nJ4BlDjrElxxwcOX0yGJ0', '0SMkzFGJOBFDI9KfYD55L0', '1h7cjmKgkw5D0iw0FzaoRB', '6gjzlX1MlA9JdpbfhkOKTr', '2fa7m5hj6GW1B384rHaXx8', '1Z39z6MnZqemvR9wnFgvix', '5UB05M7pQk2i9RtPITIDjw', '4l9fOpDy6cqwaXSsl5l48v', '2F0ADF1oXdIQPrjDzI24jQ', '6mbjNtS1Hs6GG289OJDbu7', '3qvA3Jk1LpKK2o7A08MGF8', '2jxH1ZOy8xHd90xNVml77W', '3tF4TjrAO9dxg0AzBRmk5R', '4YN94yxYWFfhk9YbmOIqR4', '6IhO1SFSXya8I9ixP8RzAb', '05TzawC4tCFkB5Lvm6efph']\n",
      "['15SHp47fM07Z2CDX94Gbs6', '5CYJB5Md92kvcrZ4lJDALY', '5JzXjnpQpfWZnddjpCl2NB', '0KxzO6ZP8mq8Aml11XiVEO', '5g8GL92VuI2m6813owJPeU', '2WaA5bVXcIqqpz9j0gd7qK', '7josClquCCIZrmbPmaW3IN', '1HOlb9rdNOmy9b1Fakicjo', '5LIAjrAndrQwSQECcOW4w0', '6rnH75Vwjg2J8q4pZOSdhG', '6VjVfKucrPreTP5KnzKgf1', '1X3vx6ichKxWR1j1VY0p6D', '6Wqk68h7bjH0ZAsmwaQIWo', '0Q6991QBoX99np2IkwwO6a', '4pHvOc8OyXWGM78WGzShev', '7090tYPC3UiSg7sdE6oGti', '6llSTkaigrjZi0pNEtJJMm', '36I2QutvQZvAsnGDhIY3en', '0wm3QDJX7EedYpc6B9kHGG', '0qWcjztNsk3X1sYenWmRaX', '0vZCG0H9KhtU7K8MEUVAoV', '58OJXnFHs5g5xBYk6jVrch', '0SVhHS8kIlAq1e3AWjotdv', '37ROa71bglF3Xrwqbt7Vx3', '7maSorm3kl4IV5rNN8zj2e', '3pxL5f1nQAedjcozOH6Ck1', '5jhg74QMROtlHwsSwPcqBv', '4eUMbFJ6l8UogwBENovA4v', '6Xe9wT5xeZETPwtaP2ynUz', '00jhwzGOnCJLiNfyxNvoDN', '1sIbUfZR0oV4prjqloIGsH', '1XkhFk7sF6PEZvdBcJtKsD', '3SsFpHNcXctFNRLU043bJn', '0JK67rFuXztETdTSwSO10q', '4BRJSvhsXbMyAFssYkjZZb', '3YFAjMbTAyOvrnzmsGK8Zq', '3FoNWKT9tT0ivAyEt0rDru', '6MnFtUgpvfxAyKvLvi5fvB', '0BR8VIeK6pjJC9B8E338QB', '05ypMny6eb32gK59FQZFEs', '6WaBSLUShG3BpQUpXr0CVR', '5ZFVacinyPxz19eK2vTodL', '57bsQViLxCElO7yp5gWzpN', '2WwwR2iurJobKpTVEz9qHS', '20yPD9BX9Jh7qBesRlrlRF', '2rD2nrkfu74e49aGJ25lIs', '2ugkQEI9PQXL6HHREW1zly', '1D6950tU0oRYr72Gtb9DCg', '6T88yq0DaaC1ctDsHw620y', '3MIcaQKeonFs3FZFvkz9vQ']\n",
      "['0jO6tZx2oorepWmNNUhso6', '01PiQmG1Ct8Rd21uZGGaYJ', '161v0jFYUhailRdBDpme42', '2Ro4omaNT93PWupBIGqt3D', '7H98YipvknNHTvRw8voqkc', '4AlZ0FgehhgtLHddKx0Ou7', '2a895z4sCYs4sFvwapaaW2', '15mXaLfZH1RtbfwlB6Tn7J', '16Eo8p4JjYBDofEA2g2an3', '1T7k1syNNaoKWeWMx5L7Zx', '3jJP3PxNRBRmHQjmTJFNBS', '1ffTuRRrqqiDG0T1CPJse8', '7FZg4pL3i6DZYcrJkJogVV', '6FBPOJLxUZEair6x4kLDhf', '5gDTrUcwXdg5N16koi0bQq', '7hpFYWL3cw5m4y70cce7Zb', '4flhEzNprMkUR0NxsKdOgw', '2K2M0TcglCRLLpFOzKeFZA', '5z0QLEpkbUh00SevSuYxOh', '19K3lUMJmOdeuOBTrbLm19', '3HnL56RzKuJYtwTe6yGnrl', '5JdXNKbnaaKSc2B8nCgDIc', '3IrDvRNvGtY9EOGe854cQH', '473dVAB97y06dfl6OBb1uj', '6z13Aw3mNz2Q2CCWKFxwIA', '2jZny5PJaXCtUamKbQfdEy', '6hST3xoyJDMihIISquvPU7', '06vNI2vy0Z1c7owDTpfEDv', '5QgK9b7Ilavg3Vs4JscJ6d', '39I3iPJm9pCrEcW9EqWBll', '13NwOvjaW6fokwsC0BwvoT', '5Lc1uQAvtbvn3bl2CYmJan', '5XKEa30esUakXAAROXWmvz', '2q4tfTDWKwHfOtKXLa5H04', '6s5BwPPzz4bdY5aUHWzqAE', '4UDyPXAzvzsNNjKNNdCGmp', '0Dmnb3C3GaGdyjlyWaWLDr', '0rUIff1QHd5zlOBtlHVqd9', '2wNK1PjIS9NbBIchakaL7k', '14XWXWv5FoCbFzLksawpEe', '3cHGuxZXHBpCYI0xFl5Y4D', '0ylMmzHz9GpYWNpCNpQSaI', '78zSViWUF9Lc8jmgK0dyac', '04AXV2hafOO3nL2eVoHize', '1xNvAhtYf38J7h9wMkPPI5', '7J8A3XOuGFnGheoSsHUXC8', '6iWA3gAF4mB2lpLdC3eJzK', '4PREkXFb8YawThmhZICrXR', '4H2SSeanaoeUBTMpZvait0', '0qIjFOa3hO4DUzcXZOKhlU']\n"
     ]
    },
    {
     "name": "stdout",
     "output_type": "stream",
     "text": [
      "['6D1P1mKUJX1AXeTyRUrJtc', '38UXdVUPvx0dHbrotdg3Bl', '6IwruEuVNIK8VNHBr4L9JY', '35MYAs5EQtZ9c5NLlZammA', '2mKj8Em0GLFu8I78yM1CfU', '3Id64dLhfH7z0mmcylxuNp', '1ikzC1az2vXMR060qvDnvW', '2VlgxHvpG4AH9NrHm4iYsS', '3kVG621qqWVivZi5E6emcu', '3uz3INGZqSK1nHiXYbKmRu', '5jzma6gCzYtKB1DbEwFZKH', '4G7l8ksBL0Xq20SvJhRU2R', '3JTQe7ek31DCy9glNCL5Xe', '7GUizFgoBcD2RT6BKIdOYl', '5bxBosfOC3upyOK9tjxZ35', '7dN52YlyGl6c9tmxdv6zMp', '47YBck72thhloKPGT6bYvI', '6GIrIt2M39wEGwjCQjGChX', '7encmoXavP3ek6ow2FMP6F', '5MhK8ZwxOiILTOh7LFK5VU', '1T5Y4J89qGF3dddKK39ybT', '3hVQzK2T3fbe0eW5qPyQU4', '7CdGO6KJg20UAAXl7CW8q6', '0z18nuwBppfJT0lwt5YATH', '6RrAhxNSJ0Izz17cjci4hh', '7uMZPWBbvNUqY3baSjPx4f', '3YY9GOjWTzEYwptFfomE1L', '44uEz0HaEadUrgZefxyKl5', '7fu67Zso8hS8rcAMXuPhcJ', '0SAWxOOEasi1XS2lsG3nMU', '1SgdSmas6Lez0wtxJRQgcq', '2DYapAhTnoVwYLEEuKLuEB', '3XTCg7xgIcrWIB85GJWxHL', '2OMqSRS11ly56zg9u5za6c', '2wsVadIYDm9lx8agwDRfYX', '2tj2Yq292hdP3HBngbDwNq', '6PNCtnVqCnMyhh7c5nSrMO', '4Illb7vJNyhd1i8gNLyZS2', '1TvNcWY7WwPLQINhimxycA', '4KcH1ZRV2W1q7Flq0QqC76', '0B3pmm6gmlkYgbJ7HRFBGt', '2y2E0ix0iJWQWUMmlbTWjg', '1hWlZxzZWiXRkQy7ywSAmh', '18r183RFXIpgSwA5GWzcBy', '1xQE0QHrmJUQweLoMB0ZWC', '0zyHqmRo3xthdkEZR149or', '4jH8dxtKxBP9YZcLFGkw09', '1CixgXHH8PF2PKhTSsFlL6', '2jA9qJfG1LXe54izORPfRn', '6DpvRJMS2GVL1Z1aTxBYX7']\n",
      "['1bhjMY5O0ZjB41OHcdRH0a', '7tZ1sF5HLhqtRO0bITs4lV', '4yXNMbZrsFJbPTH0WfhwEB', '5u2FOoFhp495GIj5BJC77J', '4WdopfTdSd0nCLropjhsgH', '58KPPL1AdLHMvR2O2PZejr', '0gbrepTKKXEYFQJ6tNCbid', '5XJbap57aWXdMOGsuSxcsl', '0P1ZgzaNDz9TmFC5obILxP', '6xOZCV4EPCupXwvqajSKzq', '6ZCDfhSSqvpM8rW344srSM', '5hpnDwwgd16krey1a1LVzn', '63IIUzd6eJBfCGIcF8MFnJ', '3NoOwvxhI2yMYknxqnFUVx', '3tNYGRRCSU9wot9lXdX8Rh', '0l2p5mDOP3czJ2FpD6zWie', '4hGSB6e6FYVFsjI0mqHZtI', '4fRmFVMd0c1SGfzazBJIM8', '46Kcradxrva9Dny4lHU1b3', '4uVjbl6daCwjhDur7qLddu', '4CbKVDZkYKdv69I4bCaKUq', '27L8sESb3KR79asDUBu8nW', '3HE50TVRquwXe9yv2HFoNL', '4I0sRLTv7EENLHzfDeBheM', '6LGeOxAohAJTZ0fxKXMqXa', '6SpLc7EXZIPpy0sVko0aoU', '2dwhns14pjuxxcM5a0eOow', '1nLnpLXvl68RZCSjfkyiaa', '09CibftU63IIhXuGa1Xzzo', '3AglCqd6PT4zp2Hv7oOKBl', '2jnkyrJ9dCuG3K0SEjRSrR', '4ykYrl3qGqu9rr1WTGAQvg', '6uDMP9Hlgy2FemC6sp9ZRt', '4zvfgpO3ZUsBXKg2Ikw6D9', '6uWp8yAt8dN5ZaT7REJ6RV', '6LjDGj9Hn5ERX3uhrT9LGV', '1r83bsSJee9hDYeG0JobRq', '0cY6CAgB5wShSOTT3lQl2t', '0vKGvQdkbesI7RGKX3tRyk', '1r91KEueebKKvPTk2PD3GG', '2Meangpbyvif2jmc1Uf2al', '6HJzCcSMggn7Ultxs48dAe', '3d3rJ0qtOU5aNX324mNWfo', '3T8Ht5f3xUejqEctN3RGb6', '1TbuKk1NP186N7v3IUP6LE', '1UoVOcO3ghfBHJzQKXnyc5', '0c0ptxjRaqaxMM8gvSWCG0', '0LWkdUtorgGHr1bwT2C6tY', '7xapl7fsqoJU4p0mQVOSm0', '4KcH1ZRV2W1q7Flq0QqC76']\n",
      "['0DQQRJ4sR3pxwom9L7D7QR', '18ngbo8IEAQoNkt3LY3VXb', '2QsZVnbWVSjKMXK6K3uRBL', '0KKkJNfGyhkQ5aFogxQAPU', '3Te3gG6MPEDNqLGzWrjKC3', '2DHuxbFzoS1fwTCSJi2bnW', '0PJIbOdMs3bd5AT8liULMQ', '3TRNLShed8CXtj8xnEakW0', '0g1UzWISKHt7elmoM9TsAh', '2zQAAj53fCLog8hzBfT1Fs', '1K9kwPsyrJvZANjhzVKqml', '5kyd6oKvKmj6mWCaAaHoN4', '5xjTqz4aYQeBnFhwMPmfx9', '6YZQx90VEuzf0lRY9TYh7j', '5EpdvRM97d8JBlvCz1V6gM', '4HaTbFvIyeinaV6koLK3L4', '3FISzZeOXxIw20PB0n5ed4', '11ZPIe8MUvf8yXEWS1vNQZ', '798qQI19swXUSS4ZmoR8O8', '0a1wfCFtFWezmtf2D49EMF', '2gam98EZKrF9XuOkU13ApN', '3OZs6tgXsBmb3TWPn07YCF', '4wwqHo2gtdTLBWtnrx7XIu', '0UQSyryW2vxE88AVFSZs3T', '21Ft8ME799DMZjxNwmui6Z', '6za48riBTylMJHsf4AJPxK', '5embh0i7ZHHn3BXhjoeihX', '0ygfSHAl7aW40FHDQjSsD8', '3OQu3z3okKVmWxSXTTHak5', '4OBZT9EnhYIV17t4pGw7ig', '59gNuZaG2UzPOzfCd0WKxN', '6dnrppGRbt8fie18Lcd9Dd', '0jrz4ZQKCsC6h2vzqgHiEp', '3jA8ZvniDExxHaoM8nkrCS', '1fOkmYW3ZFkkjIdOZSf596', '6DkmFhzJrkVhDlcgcEy7Pc', '6u8hSdYZxbK5EczDPRIXXf', '55nlbqqFVnSsArIeYSQlqx', '3MPC4VgnsdlTEua8QntLab', '3Txcx4jhuiTZSvhAL0WaRc', '5ehJioqjweOpo9I6hjqtAr', '5mhIx9uFL53Jk8X8XfLG6F', '6PyLw3l6ndolBrTPQp3Ibm', '0j55p8YRAPG8yajtNyjt6A', '2LBqCSwhJGcFQeTHMVGwy3', '2Yia0Gh4n61fPAjrNE5i2t', '4A3evD9w8QYhXBxqcj16ys', '515Sz5OLZs4ySr234CP2js', '1mhVXWduD8ReDwusfaHNwU', '42fmP3T4C1LV815RMb8zdC']\n",
      "['3NLrRZoMF0Lx6zTlYqeIo4', '63wsZUhUZLlh1OsyrZq7sz', '6ADSaE87h8Y3lccZlBJdXH', '0cBDCol7TFmvpT4A4YpxV3', '1X4Jv9HWP8f3UbiRLYCzSB', '7cpHPzPgqKor6gv6nTkJ4R', '2a1o6ZejUi8U3wzzOtCOYw', '3C5in0EVdoGepp5bA6lhlE', '5Civg4JEWHLe2gqMG5vW6E', '2JFrlsJBH4IDt3Suot97dP', '7zkLpY72g6lKQbiHDqri1S', '6PypGyiu0Y2lCDBN1XZEnP', '4sYn64V9gqP6bpkOGw5B9k', '2Tifc0uoNRdBhaD3yhWCsf', '1O8d2pWtBclzuY3FctBPVa', '2I1W3hcSsPIsEJfD69pHrW', '36IZGm2IuECLTxMKa9qajO', '3XtkcPHbYX0BImTQLlbSVN', '6j7hih15xG2cdYwIJnQXsq', '4AW3OaprvQrsEmnOF5c5fa', '6zJms3MX11Qu1IKF44LoRW', '3ZzlzIJ5iH3WXCP6bX8Vp5', '6ucR4KfvsBFWCMVFDvyKKl', '0q9uPLLY1FW4xhYyc9E6eq', '4nVBt6MZDDP6tRVdQTgxJg', '1zVhMuH7agsRe6XkljIY4U', '5FPnjikbwlDMULCCCa6ZCJ', '1DDNfRbtLn2dxm4onBxhOV', '0QeI79sp1vS8L3JgpEO7mD', '1fu5IQSRgPxJL2OTP7FVLW', '2QOMGq8wVTZbLmh7McrvgF', '1Ujuabe6tYXRDgmTk9j3K9', '3JhNsyNQSyrsHcnFRHZN1e', '5VfEuwErhx6X4eaPbyBfyu', '7bzzC7QIfflM9eEj2aqaYX', '1o22EcqsCANhwYdaNOSdwS', '3cHyrEgdyYRjgJKSOiOtcS', '0MhCb3iakymVqQIOeYPSUf', '4VuHWU01C36BUaN1adNi5M', '3RPvaTtA38cNsCNL7lXt4v', '4E6cwWJWZw2zWf7VFbH7wf', '3daDd8yhWLgeWyCeZp9eIj', '2Guz1b911CbpG8L92cnglI', '5g7rJvWYVrloJZwKiShqlS', '2ZaYFNn1YQuLSVdHhanr4Q', '7BqBn9nzAq8spo5e7cZ0dJ', '7keXdrB4mz57u4b8YkCwag', '5JDcQAztvZTIkrWoZihgvC', '44DnIGEvTlhDkGv3xLSDcp', '6epn3r7S14KUqlReYr77hA']\n",
      "['6pIhN2XWqNhc6o1YS6ZHVH', '16hOumjVFbwTmkZ0n7rDf3', '7LRq83o9LmJYl7uppJtj7N', '4dJ3VL6HEUhPVCQaAGMeRp', '4RHBIc05iEJosxspNGNRGU', '0nUlrSOs1GKt70wQDRwzPV', '5oMG1oGIuimi5dL6jQDS4g', '2vblBm4vW2aoJU2ZFulunJ', '06hhuzfN9dbhCXM8AYUSXn', '2pgweUSbAKorya9t7M4s5I', '1HvqYpA3BpQcc8KJjAyxJl', '6rhhxhqfHmGG1FLwAETQOD', '5QCqWrW6dG6c1ugYXulsrU', '7jPh6BDWGnrlfoPeN6jeYz', '2xYUmiqMOw2deOABJ1f67h', '06dVhqeU1iMAR1PT5Yy1PI', '7iR5sSLTH2ACtcbLpntsdR', '4TVEuHy07WxtpcmXXaBv5l', '7uEiELEKQyYHS4Z55nQGAn', '3RAjbhz2rNIAyujNyumABN', '4i0gkDw6SVMh5nMVdddAT9', '3uUfLD0Rfrb5PPeYrdxH5K', '4axI66hWJxKMejkcz3izYF', '08KrSiLHHK0v7JMeX9mkpn', '15Ad73dlBgmnzVaXOx1CjK', '1pI8mSMWDo5diFNsxnJBMf', '60zX4sLQdchuhi72TgmbKk', '27RDG2lY0wvdDC64VZ2atj', '2zAJvh4y1DBXo7KIqQjumc', '2YmuRtJSxhPRdslwoqBgE1', '53aXCpKRUASUQ8cIDsJ7VN', '1PvRssCAC6PXnl9xpbcOBm', '7nPMsFa65oZMAUHNuTmTVP', '4bIDT86gB4TwRlYFsetDHY', '0UYUEr4M14y7A7o6UHTmu5', '1kZnGdRUsrErcTbnuqQ9pA', '5msd9FtXfRPcHa4Hb4fOgv', '7d2gr7qoBXzybhUGscD03H', '4sDidFl2yb1cBtOBzxaVM6', '0antMnmr4befD0U81xPyG7', '2Rpx7Bc6S9zzcghYlI7ZR9', '5Me6F9y6iArvYxyuP30m14', '24kv7kR0Cz8ZBWFx4Kq50A', '1jmTuc7xLKVH1PfZqWPNYB', '2PyDqCtFcXsucZqTF4rE3i', '0vNLuFLri87KpGYlMeGbl5', '4KPadp2uJZ9J2mYM3A04Un', '0RL6g1Me66QzjziTNTuRYj', '0iOG5CrXjBr6RUDRP9GJAa', '6LtaXQAwy6qy3lnSP0BuZ3']\n",
      "['4qtOmiiYhlys5OwiSbWm9O', '390sHs6iOJV9xgELPRbqox', '0mGvaKpwLYoybnIoboC3uS', '4u5xLMRN0dgKBFFN8FiNgv', '7gXoDdtHUAT58STSAjhmLu', '3svvCaJ1gVAQjhWI6mMmO6', '6Gap7FCzt3a8Su8HzW76I4', '2ZHfq2fapgH4mtLHcm5CvY', '2HAyCDJ6aicjeJZlEMp2GX', '2ZR50pvQ1lpMWyQAMO4Y5b', '7zo8XAMYBG6nGpqGiIudBc', '5buC1VFP7FSaB0YokvP0EJ', '0UAGQMu69SmPBLSVNVK2D0', '2PyuytS9WHUXcqzR1lJYV0', '5RqdUkvsV4BOXpFd5zbXFt', '09Bbzwqg8PnvyZn3DFA73j', '2MioxSroS0g1mi24LLfcnq', '2UPfiKisNceDee4VFcdoZx', '7000lIDeQQURNIsLINOYZo', '57cL4FDebgbKDfnrK7ZCsp', '4GlxkdvkV7RddfoTz2ZtlT', '6uIk27ADwVYHMSlOXtgEOv', '6q8YoS91mw9tH5YaAXAp3f', '4u0IdGWMzjCVgdM5xc7vEG', '0798D5Kod1iRzqIVaRlpZJ', '1rFmJiURugnU2HLBkQpAuS', '4s7DK08ZqqU5EnjvQ6Vlle', '27cJ2fmLUPntkn86UVe1BR', '2c8OyKOEecrjegd8cfkizR', '0qtmSv1LAqAD63ApakCUuz', '6Sd3XIvKWeRRLPQsJbFdwV', '1xbw6jObdWhPSoN9MflOSA', '7zEF2S4ZtAbf1MjpImOUO9', '46xluCYPf7msJNwmDKqCrO', '2QxkUx3Mxdvqs4q55tXSdi', '6lCdmllBhmgm4vwN6gArNJ', '0DQd0tWurMHUAv0cMnDELH', '3iZCGJKeLgSDQyWUrLklGa', '2ZY4JhvBJftNIXigwCbGhw', '6qVxcpqKeVDxcT0eMMWtyN', '0jr6tT2vc4cIFPHb6wufG3', '2ctjDCCg1wHoQSjIJ8p6U4', '3J6vrRMz6EfwH2sgYiyNhc', '0G02IGpCtm4CnSWRj1Hi1u', '3H7UaBpIlxh6gCC9LBDzsM', '62N7RkB1weggv5VHqgYOsb', '5xqtz7C9AG2qzMTwqX6mQw', '3FWAWggrMlMaSuBrf5cgKP', '6JsjtzYSuErzz9VBMxPmj3', '6IMiagdaStJr3gS1xwI4BH']\n",
      "['15BQ7vEDv2LJuh8TxWIhtd', '54flyrjcdnQdco7300avMJ', '2lwwrWVKdf3LR9lbbhnr6R', '2ihCaVdNZmnHZWt0fvAM7B', '0qwcGscxUHGZTgq0zcaqk1', '5ByAIlEEnxYdvpnezg7HTX', '33iv3wnGMrrDugd7GBso1z', '2PlP2rRrgSz8lC7MpH3e4e', '5JLv62qFIS1DR3zGEcApRt', '3hlksXnvbKogFdPbpO9vel', '451GvHwY99NKV4zdKPRWmv', '3UGIZ8qcrMTwzLbx6Kttqt', '4Kz4RdRCceaA9VgTqBhBfa', '2oSpQ7QtIKTNFfA08Cy0ku', '4lY95OMGb9WxP6IYut64ir', '2g7gviEeJr6pyxO7G35EWQ', '75hLNJfiXV5k2YGrbGEW51', '5Fli1xRi01bvCjsZvKWro0', '2nvZv4qatgsDIbEqqbQLUT', '34gCuhDGsG4bRPIf9bb02f', '3gdewACMIVMEWVbyb8O9sY', '2NniAhAtkRACaMeYt48xlD', '0GO8y8jQk1PkHzS31d699N', '1YI0uK36eupTmw9F8kHysr', '1DIXPcTDzTj8ZMHt3PDt8p', '0weAUscowxeqDtpCgtbpgp', '0P7DoyGrr4Wp9w5TotEtUC', '2ahnofp2LbBWDXcJbMaSTu', '2374M0fQpWi3dLnB54qaLX', '1Dr1fXbc2IxaK1Mu8P8Khz', '77NNZQSqzLNqh2A9JhLRkg', '5mkGfmJGFZpwK9nA5amOhv', '0SuG9kyzGRpDqrCWtgD6Lq', '1oTo3ijRbaDAtrjJrGAPSw', '4S518ci8UY4op0Xyp6Hx6o', '6Neq7tjnknt4URNI8txFL4', '6QhXQOpyYvbpdbyjgAqKdY', '5MsZIaCYY6Tsdph0LiB0hE', '5IyblF777jLZj1vGHG2UD3', '7gSQv1OHpkIoAdUiRLdmI6', '6vxHp3CDNo0afgKGp2yi1E', '675Oxp969Xt3KYhHvO069r', '3ZffCQKLFLUvYM59XKLbVm', '7MF7QAodbGzNYav5ZfIhAY', '7ACxUo21jtTHzy7ZEV56vU', '0ltBH1JNzSvQJPjJpvTu9B', '0Hrd6CSafHHqKptyFppmqH', '23NPGXlSaIqWzvxIRhM2oG', '33R3swWziWYmnDYvZqcZVS', '7s25THrKz86DM225dOYwnr']\n"
     ]
    },
    {
     "name": "stdout",
     "output_type": "stream",
     "text": [
      "['6XEPmHllDGDaO4w84Xjtgi', '4o6k1XHlrIZay8v1m5VU83', '1E1uGhNdBe6Dddbgs2KqtZ', '6w8dBm5KlXxWejYrbGS1EJ', '2RiBogNRfulkNf7fVbPOrJ', '7kJkTFmKYHrp9LT8w0oqpG', '6W21LNLz9Sw7sUSNWMSHRu', '6zGDIDjfDkPyNxrEERO3XG', '2NRa4W3rH4e5GKQMN5Qwyr', '1f2V8U1BiWaC9aJWmpOARe', '0M955bMOoilikPXwKLYpoi', '42et6fnHCw1HIPSrdPprMl', '3CkjLJYnnyOtGk4Jx4iYS4', '11bD1JtSjlIgKgZG2134DZ', '3MrRksHupTVEQ7YbA0FsZK', '4gMgiXfqyzZLMhsksGmbQV', '57BrRMwf9LrcmuOsyGilwr', '1qwno7xb5mJe71xtMS6jl2', '3nhzPKCm2yqGmgEhdAg19u', '20aASiwfsbiLlaJxLiC0PQ', '42T2QQv3xgBlpQxaSP7lnK', '4a9i7rCLfPjbS1sNamZeQN', '3KmuRpdh3UDv9GHyO8SmgB', '5zcLnqZbAjDGXX7HNcT1rE', '2RaA6kIcvomt77qlIgGhCT', '0bKbN288jXK5tKxnEGK8xL', '506YO37JuV40cnjeVuwlGD', '64BbK9SFKH2jk86U3dGj2P', '1yf3K4e74VM6egV7QDhXyz', '0BCPKOYdS2jbQ8iyB56Zns', '4YyOPaXcxCmpv3c7SQUo5e', '4YMQXzscifAREG0a7KNGhB', '5EAqdVQ4SxklvmuFYHh9nK', '0RILico3Gbl5jxSNg3zLrJ', '2lwwrWVKdf3LR9lbbhnr6R', '0NWPxcsf5vdjdiFUI8NgkP', '03jdl5GTBhKsgB1Yw8mVPh', '0BqQWfhMrkpRAUCbdfdHUC', '47ojH5LeQhl1ZltSAHBEFF', '77tR4iQgyQTAnhhuPik3ZP', '1brpdmqkx3kSxyqzqXfW7J', '4yugZvBYaoREkJKtbG08Qr', '6i0V12jOa3mr6uu4WYhUBr', '2K2M0TcglCRLLpFOzKeFZA', '2N2yrmodOnVF10mKvItC9P', '6SpLc7EXZIPpy0sVko0aoU', '2takcwOaAZWiXQijPHIx7B', '0cxmetxmmOYNkE2FW8kl8a', '5anCkDvJ17aznvK5TED5uo', '4xlEKYv7HmC8zXoJIbpZKM']\n",
      "['0T0qUG5LFTSDNSLtTPXvBA', '3dPQuX8Gs42Y7b454ybpMR', '7hm4HTk9encxT0LYC0J6oI', '7BbrlQk1YHVjHVyoGEpDV2', '3VqHuw0wFlIHcIPWkhIbdQ', '3ZiinX20GNikz3F849xTIO', '3utLAfIyhJkHld47Dk3iBT', '4BYGxv4rxSNcTgT3DsFB9o', '3IOQZRcEkplCXg6LofKqE9', '00sydAz6PeOxYzwG1dRIPi', '7jkPCXETejn3V1wkvu03AC', '7oVEtyuv9NBmnytsCIsY5I', '5anCkDvJ17aznvK5TED5uo', '64VP3skE86iTvdOlbzuIcO', '43btz2xjMKpcmjkuRsvxyg', '78lgmZwycJ3nzsdgmPPGNx', '0P7DoyGrr4Wp9w5TotEtUC', '1Q2fYlSdwuutWj3QplhY9q', '6SpLc7EXZIPpy0sVko0aoU', '2KIz4ileT7mvzFhAR8U5gS', '7u5dBtASrtOuBTTZjJrvuJ', '2nLtzopw4rPReszdYBJU6h', '64sn7wgJfeQKY3Jisnl59w', '6FsQrRpBLgsrFeAeiQqytm', '7KATU5SV5dNmETSDLbJmZc', '2dHjSNCw10clC9oOld8tPn', '4aVuWgvD0X63hcOCnZtNFA', '5E89Izp4YhPyNShoxiOJ1u', '6HNruFQlzQx4ulL4ppRLYI', '3s03nrUInN3NAVjQtmnS0O', '3SQhmctWreNM0X6Zkm2K5R', '6L9ioUFPJV1jCYIL69XWAU', '0Xq7FPQaLJgIHSB605YUMy', '5RFUZa26V6iaY7bFrJp6EV', '50RwvvEKX5Q7AZt8FTAwIF', '7e89621JPkKaeDSTQ3avtg', '7bA1DHtoJAvqyL42gHwOLa', '3JvDEbXLKUxaNv0D0txup5', '7uIF6RDrW2PwvvYEMkanr8', '1MTQHCpraD4S8g5PAFKzoj', '29pzjF6ZkzcW3ofgOVbF0t', '423o3ZHIaBtGXyhF1uH41a', '2VmNXNQyZeb1P72Vuz5v7y', '70Z9t1qhytWtG4cCmmi7mU', '6xq5DxZWGgdStAxGAil0yw', '1JO1xLtVc8mWhIoE3YaCL0', '47gmoUrZV3w20JAnQOZMcO', '15BQ7vEDv2LJuh8TxWIhtd', '2fdfsGuqb6SBX5ocoBWHUd', '2rd9ETlulTbz6BYZcdvIE1']\n",
      "['0B9x2BRHqj3Qer7biM3pU3', '4p0bFfFrtR44v4j8xtftTT', '657iMB5a1CDnBcFZ2vdikc', '5NbdTT0IzCPvmqvRgL4BYZ', '0placGA69DMyS8NvaFe7Es', '1RZljuJuHD23UrppF3GkpL', '5wq4pae7Fmr8mnVQC8QKcR', '67zwsxawa9P2OinoXmGWdq', '4m7r6BCzfKvAisliZc4JxS', '0EPNgVg75XwSK46DygR2Q2', '5js4SCSTd34E0BUvkSGItC', '67UJGroXxC22oxzqO8bozE', '29RQPGb5mqsaUu0ym283bl', '6YffUZJ2R06kyxyK6onezL', '40Hx0p4YQp8aiotm6DV1mQ', '32wbdqEPSTNJ1eQrKwli3L', '3rJP9FoUDjUek5aKF5JwuG', '0S8ibKBl3tjRmYbZhGHNhG', '07zoTM7J0cUCwPcOHMJtyf', '7xP4FPjWYH2PmBHRgKqWAU', '2k1XsA8zASNa1LR66wOxsM', '21FutK6ccHydXJOLDjbS5E', '25w7iMCt0xFrlXvr6d568M', '3l9dRi6jKSgFyy9riVYelN', '18Zw8HtC0SSQMGJsjrEbAj', '6t34N78TIbniWvnIwtS2me', '5b0KMebx2ZOPv91U42xOSv', '4lVaOaSbo9pxFQm5vVjFR4', '1MMyEcrXv0UXtbT0dI5hFf', '6KOxENMw44KWCI0oc3U48B', '0PYgM2q68dxoXFxthAJ373', '1ca2uiucobPt5UA12smJwp', '1G9CoqXAYqagyOaNlIK4s1', '1iUgrte2PxLxQ6Te95RnAV', '7hQTewgpQuqocEizvO80GB', '6niPlWUTeb6MZFFpadCw0J', '167hNam1NEEAks9trHWRzu', '7Fyo9lTrk6pjT1rVW3GlBG', '2KIz4ileT7mvzFhAR8U5gS', '6uJXOi796U1D8iW9fj2ZGn', '7Bt1RAu4FSYL3WltEmLmb5', '6csLL0MBNVIMx19PfsKsW7', '3gd3Eu7AEqJC1wcNx8P8xg', '41iti2jnVYqhlxWMcGsDa8', '1dUSZ2PemNpxcpU9uOLnDO', '22NBZRa3jb8I6lkpg4XbqU', '6CGzfqrvZ6iXCrNkwVXz2C', '3XhRytKC9SRDvr5SajtSBS', '68KQRRUQCaSc5l6Ul4s2iT', '4FlYcJnfkeBpowEHJ72Bmt']\n",
      "['4fa1TicRIFloaEVUubYfTV', '0dRhSF9LV0HR8Jwd3MMMKJ', '5Z01UMMf7V1o0MzF86s6WJ', '67awxiNHNyjMXhVgsHuIrs', '0ygAYQQy7bfDN6gH640bbl', '0UAB340gAcSMk3r0a8PTag', '6zJms3MX11Qu1IKF44LoRW', '0HZhYMZOcUzZKSFwPOti6m', '2CEgGE6aESpnmtfiZwYlbV', '6r2BECwMgEoRb5yLfp0Hca', '3C0nOe05EIt1390bVABLyN', '69gQgkobVW8bWjoCjBYQUd', '28euH5Ny1JXxZAt2KjWp62', '7FDV5ELOJHCGLe52AnttEd', '7oK9VyNzrYvRFo7nQEYkWN', '0sHW1jXe6Sou3437gJQNGA', '4nvDLfz3eExaYG4cuRYWkQ', '174rZBKJAqD10VBnOjlQQ3', '0qwcGscxUHGZTgq0zcaqk1', '1nl09AjkuO7BBRF3BFAPsC', '2bL2gyO6kBdLkNSkxXNh6x', '7795WJLVKJoAyVoOtCWqXN', '3dAgQFdruU8ufWc5GE05xC', '5dNfHmqgr128gMY2tc5CeJ', '1D4XFKolp63mNqqMXJJL1V', '4V2F0DZrAXOWq9hkwMMG3x', '69kOkLUCkxIZYexIgSG8rq', '3G6hD9B2ZHOsgf4WfNu7X1', '4wLZ4zPM9c4oe1VV8ejdWV', '5EQzuYfTZt7B2LqlvTF49l', '60nZcImufyMA1MKQY3dcCH', '1z9kQ14XBSN0r2v6fx4IdG', '1gihuPhrLraKYrJMAEONyc', '3YRCqOhFifThpSRFJ1VWFM', '0ZyfiFudK9Si2n2G9RkiWj', '6iNcyWk5iUEY7P9zeTc5hm', '7haFcQaoTBr2qY6G0r4JSH', '3axkNosdVQLZiq1HakuGhc', '3cHyrEgdyYRjgJKSOiOtcS', '5mvKuE9Lf9ARVXVXA32kK9', '7B1Dl3tXqySkB8OPEwVvSu', '0rFZaQ4crlGAzuCjWCQ2xu', '3bidbhpOYeV4knp8AIu8Xn', '1PmHkalaUHhh0fz23SBHDL', '4Kz4RdRCceaA9VgTqBhBfa', '1QEEqeFIZktqIpPI4jSVSF', '0IktbUcnAGrvD03AWnz3Q8', '0LohatbcUXRauoeMlR1jnS', '42BAwiGC1egjbiJ6y512Tz', '51tUT1gHE30GQPhn1agudM']\n",
      "['7wjbSn8QHsxqKXU5M0jXGM', '7fPVjoqZnXabcYkk7TIWMT', '7wuJGgpTNzbUyn26IOY6rj', '3oL3XRtkP1WVbMxf7dtTdu', '3rocTBn0NsGrVAHGOZNzH5', '5F7IJrXD6Fa3EmqoYE0gU4', '38xWaVFKaxZlMFvzNff2aW', '53Pgsvu3qSYO2aXt5J2vcL', '7zMcNqs55Mxer82bvZFkpg', '0ll8uFnc0nANY35E0Lfxvg', '3PEx44by2Pe7E6M8tgqE5N', '7z3N2W7Xz1t2G2sAO8wFVH', '1mea3bSkSGXuIRvnydlB5b', '5Nm9ERjJZ5oyfXZTECKmRt', '2pwdgph51JIwFkhmvZdgAn', '6vrUTGn5p8IrfTZ0J6sIVM', '2Y115i0IhELJhyyftvoSFt', '13yEuYLJYxPCLJR0KNOqpk', '1V6gIisPpYqgFeWbMLI0bA', '3HE50TVRquwXe9yv2HFoNL', '0FdQ98kOrGCnheoeZWayZm', '3YPiRYIUFlcQ0aaLGmeswS', '63OQupATfueTdZMWTxW03A', '1D4XFKolp63mNqqMXJJL1V', '0GI5kShNSeFXC4Ug2xrkTZ', '2JFrlsJBH4IDt3Suot97dP', '3ZjnFYlal0fXN6t61wdxhl', '6ucR4KfvsBFWCMVFDvyKKl', '4ekUwwCPIKT1ef5GllLSk1', '6GH9BAxbNjCmBVTh8wUxkb', '0R8P9KfGJCDULmlEoBagcO', '6GrrkiCRO3HYdgRpO4eKEL', '5B8N5rPOmTVVGpuBMK2Vby', '0HLWvLKQWpFdPhgk6ym58n', '6sy3LkhNFjJWlaeSMNwQ62', '7l1qvxWjxcKpB9PCtBuTbU', '2N2yrmodOnVF10mKvItC9P', '4eHbdreAnSOrDDsFfc4Fpm', '1JCCdiru7fhstOIF4N7WJC', '1wl3u4FrzcuBv2LQ97Z6TQ', '5OOd01o2YS1QFwdpVLds3r', '2nLtzopw4rPReszdYBJU6h', '6l3vk93IWfe0wq396JTCM6', '1maOjghpUSvVHj9F9WPujZ', '6l8EbYRtQMgKOyc1gcDHF9', '5xEM5hIgJ1jjgcEBfpkt2F', '7BqBn9nzAq8spo5e7cZ0dJ', '6HWYtS215rxaaMjvpyG18W', '009ImBOrIUlWgla8U05RAC', '02wWugZopNahlikfX5vm3F']\n",
      "['6jCo1ni2ikRL8DWuegc92I', '6dvRYk3hch6cxh81jhKwFD', '77K4xv3gZ8LNt1TamTQbPo', '7paJ4Dsm2SWJvqRwpDnxrL', '73rXmlaMqT37UbdxWeiMpl', '33KS4qTvzK0mJf705AUwDb', '5fF0fb0VFihGDHFshDLi2Z', '7jcpqrLUrI98ngjXFj1MwU', '6oVwRN6SJEbeEC0LxAeVYd', '5GAW7f4CGEPC2I7oNjwB9G', '4rt6jVjZxdPHm2r0XhAYgq', '6rsAqgBNLooUcpO060WSv4', '3LxcxP23val8en6VNc4xgz', '6WWDMo6vy6YzyzBknwfkca', '7AhoOwG8qWE5RK7GS1XA6w', '27ze5t5tIDPlVits0KRbxT', '0ztGxRRezfNElo79ESJkx6', '0A6uCqTC2RS0x7lyDTIend', '6InAsgddPjAcuF7mSHDT8K', '73yv35Bl7kkQOvFocxfKWW', '33pO6ulKRvVpegrilxhYGp', '6GHGvSM89aqo1SsSyn1uyq', '5f0RBkGnyC5BatCdEQXXwy', '15hAe365clou2Mb6viG7Sv', '2N5H8pIB12voccA8FPEHZ8', '73Wi69BqzsFX1QIAD144qN', '2hhc7L0Pwx2tCYD8T7q0L1', '7yHfaJC3F613a8eCUKa9Fq', '1Q8NiatGDc6YgefNwT7Jgu', '1s6V4WG5Vmqm4Ryd8bV3vR', '5oVYSqmBseUwHxeoZVeAWz', '2bVisOYbfWI29XxWEdTKSX', '6RwaI2SwTixKTUDqOQgBSb', '161gOWTZqCKPw7S5cRJ1BQ', '1gSiP9COBhhmwL4NezlhFT', '6sflKmGXQEk9Ghqh9R0lgi', '0odZdAJaLd4NEyYXb3t1Wc', '56xsP0TSnlihp3s2jlbSgU', '2WOMIZnu99mzeMo13bZq8m', '0uLwWjN1KFO678WNJcZDkw', '7hbvwKpNSkqURc5msHnXhM', '4rAeOQPV9iTP5FMglXzGEu', '2HY4eyBNXYPXg5ucjptySr', '7bbX1EEIXCLS0qnZf9NAZc', '5JFLXnWbJ0gsLFalPc5vpH', '32LcwEX4dqPMgBYFvucOzk', '0VYr8pbndXkYntwd9xCR9U', '4zWXW9mUa0L0v9vxNmsJ0T', '0EjIBpgI4rbJjFnQ1kX8xd', '2dwhMQsFeHr2S787WxqAqW']\n",
      "['7bQ6oFM6115zGqNAkvmvDW', '5mpgvQXmiNkeBHk03eJ8yt', '0JEgN4KqwUdYQARh7duAAc', '7o2sONo1heQ6S9naunli2P', '5q7BqG4IDp0DRW1qq1y9hb', '7k19wJiFlYCzH52eVcnOp4', '0fqj2pp7GI7xKwbZcijNS2', '63aVMU3rwhJZBLXYNZMf7G', '6qOFAgMPUR2dcBeh3UAhAS', '4iOcTZmZ2w9LMXmaIogjmP', '0bBQ29YmU5F2vZy72WanaK', '6svLbrgArGrmY2YIb0WmUY', '59Iv3XLCFQ9zlm76Yp3HH9', '7nj893bdZO4IlAJa6ZrEin', '2AHrLW8M44umK4M2YZf58N', '3rwquf7bBj7CRrFuLOShZ5', '5Ntra76xmoAS3h7hZLC2ez', '0m2mnlFvkpGZrXyKNydIqm', '4bqEeIkP35S5UYPPGD8KHl', '15clTjvfPmXpsdmeGDXgDg', '0HDzjnQFl2tHM8C7OMT2Qn', '5sNqgLisnfs53En9tKw0hP', '4GtVVKb8oPoqhNUuSvGuVG', '3AZa93moKCbZjni1fuUGhd', '0s9spwsdbcbOpPUsarrVwi', '2Vyd83WrdoWvwZCS8p8f8p', '2SdtpdjIjIXcPqgQqZAHqp', '5qlnXivGaQLrzywawKSb6K', '6oxzpEXETpntlk9GDxqUfR', '67GwbFdvZNsOtCAeUPjEMw', '3dhHyRuBPDfODHUsGthkyZ', '1jz1j6hrAcUgOactViyn3O', '5zKQlUvS4o6adLa4xprKz7', '3EJ0Bi2xuE3Rv9EVcEIaze', '47iAbjrzKcPEUFUSXKFjtC', '0FZ1X9pI36EjnqCh8gQKHZ', '5byAUskBoEp13nKcGdaar6', '0MzQ0GY5tJzcpLgOjyLEEi', '2pP1RKfKr3hI6sbeeZrZHX', '3reULxFjg4ui55EoxtEYTW', '3TKjyNMLYZrDKU9yqzaf8Y', '02ofdIF2ysWQWvu8bbhFgf', '47sPKgdaZgH06N2I2w1NI0', '0z31CUJwk1u8ICIPvsD9Jy', '4SWmHBMsrjOjIER0bV35ko', '23yh8dBXLQpCLIm8TiXpE5', '1BXZWNOzB4sMdg9ZHK11nc', '6g2ULy0nMBdvkrP7Ja0ola', '2ehOp0KBkIV3X7FyJKwH3X', '5otssvFo9qbHhXyjl7gNGU']\n"
     ]
    },
    {
     "name": "stdout",
     "output_type": "stream",
     "text": [
      "['0B1bfwTYO6F9wU0rMibOFE', '4m565BXmSPTRm5REfwjHy2', '2fpMcsvK29sxyvnE1CNQef', '1nPO2tgSZyFFQN5ZNeeyLy', '50vMsRaLSdxReONvVW791x', '0hfi7XKIgEz5itQ4ggcF3p', '5B2tbfQQxqM2l8rJnPO9MH', '6OjzYcJKfKTtWRG6Awg3Jb', '3aDV90V6vHUSYKKYDLNdQ8', '0KvQ64iSeAtS0yxQAbCYad', '7LhTC90bkrmvSMLraC23Zi', '5lZUe7DgzvXTLpqDrqHuwY', '4bVNnnQn9MnKlzGYd6mOTq', '46h1fLAxsMgEEbZsmnSRXB', '5Oyg0rQcxNsJhUuKWheHaE', '5It6SGNW8Lpmpq1qrVVhsB', '0M4EI4FJpBYzgwhOH457TT', '7q3f1BrobQnLFf9wB9VVPr', '4eSkKwXwScu4CRBbQQQRc5', '5L7Z4YqAZOaZYZThZpMfrt', '1gAug7oHdtpdB0ul0XHXDT', '4eW2wTjR7LLfZjixIW2Obn', '1AroUnfl4DQpuYXJCEBTWs', '0Lvi3XoRD3AYSF8V1jXPm2', '1LbpDMbYb5MsypMAzG67yf', '4C8sypuCi1BNdXJRh1ApkW', '6l7dsUxSiDfh4L63vWXxSc', '5ouG4aiILupHVNZmfq6VG8', '3oNSfV8g5dSWO0xcV9Py8c', '75v34sROt4znRdcnMaPNfd', '3XTmB2AT6gXJBWL4pc2h3t', '4GnEB1Yq2Tgn36CcNKK66r', '2dlIuj0EA3g0HfG1bVYw6D', '4pt8x7P4L9ktpfCYwCwNuI', '6czcgwoY6kerruUTpB39X3', '1gERwoxojKbbAXCJrqB0yu', '2maLpjBM7iEuuSKI5Jkrh8', '0xbdA2SPUUrhbrVydCJT8E', '0nWzYkKqf9r4kxNFEPz3LT', '5HE2FyYnySsOCH0EBN9n6X', '56USp3ppNbZrMypzdacdsh', '5YTFUTW4RoUyywPFm9EI1d', '2sgNfu02Icm89lbiP6J2ja', '3VLX9nYKCr3Vfd7qVistd1', '3PES8JotwaafrgHiF3K8EQ', '00nq7rqQGWxEQ4YcJmI8fn', '3UlP8G6k8NawnDRCEJqZlj', '5LrQ5U0sszcsC5ck9NMcIu', '3u1dxH8Hqu8jQYzW06vRb6', '6g8DsXQOfmT5uccCnyQhK1']\n",
      "['3W8L019j4VL8QXAAGzz0bu', '2uQhiVze92lHTiMTOGqEbQ', '5o0xOQhYxr3KqYn4cRE6Ed', '4xbgWKshsfDlVsXy4QOidI', '2VdVk6WVY8wMHMEJlZLjU6', '02551EFieSMoojjDauMIh7', '03xWMkKEbeO4SnylA53ipj', '26bjSYiNMDYfW06TH8F12U', '4B1FeCxxKZYrwrb4UkpNBu', '7jx4sK4oJwodNYECPDuW9M', '4cLsM2rpxuniX1GkXdQjeC', '7xZDBHb0pD8J63wnwPIDkp', '5k3U0OGYBccHdKJJu3HrUN', '6sU5moLmfWtP3ePsS6kpNp', '2FFtdB45Z414KPXa8lsd1S', '5zQ1Wq6HNYjGZWkVv5P8Eg', '4tO0enUe9YuNvufZN3GKVC', '26b2c6d8TBOSNQznQXFdQa', '1YQ0vVVE0Fd8IwxT19NrVF', '1molnsaby6tFoL7tdv84Vh', '3WtuDsoDKMd9w6YiookYHC', '1OzSfjFW08DTD51XoNnog7', '4h3uzwjfWKfs6uwwRsXQNK', '4PWOQUEfx2dzEJleMs8oDP', '6ChuZ2vDoFkC0sp2wv8jG4', '01O2sFXHb72XiXRyOFlkI7', '4FEyVH9a4WGY6zdhVixIxE', '47NXADUZ61vObbsj7jJut1', '1QRKeAlaLqJUeCWMBRP20A', '4dRmnxr8X1r2Kn97tJm7oQ', '6eGytG2iMzPpr2atFUV5xQ', '4jQoakCpMW9UldeJCeugGs', '2av1BBGdN9DW1u7rvoRhMM', '1ynPOsDVHgdr6dCBQnDyWc', '2btI9j6ov2IgC5tAacIGvQ', '2m9fEFlDihvdbY5OMVz908', '3OO8kl3djuaPUH3aBtXU8O', '0B0yzKPIFYyqfXUMZIKhNR', '26seN94mgiImzDyVRkl3hl', '18y1ZP9WCMunAe6QgByGif', '2Nhh6KmhhEBL4dkTFf8jZ5', '1S9Rw3ETeDYzDdrRWXKhn3', '41YUuIV8uN2zKh00qT5MEj', '3cGmUgp7hF5Eb8NyuEmtCA', '1uTEsW6n80njACdk9HA8oA', '4PXVeKsmum88EGsh52pk4g', '6osFf87BM0y0AFd5nSRjzr', '2M3E9wbFtqdkSGkhfHikFh', '2qJH39hThPyUGNbZ5wPHrc', '3uqlxJGcVYMSRSlJPt2HaO']\n",
      "['1H5IfYyIIAlgDX8zguUzns', '6zJms3MX11Qu1IKF44LoRW', '2oZ2mJOAETCVzA6c9SJteS', '3PSMcb1gU5A8DveqU2K4z2', '46QrTPAuu0iJHnECJKIWWH', '5atFAXIgMXP378op4FaxBm', '7e1J5LYQjQEpyMHNF0FFTs', '1bYItjcPRtxZs6Ir71O5RB', '0Y1fueUFu8jQtUxdUmOojf', '0Kvx22z9wGHn0y2ZiWW9Ft', '0sKAZF2T0hD3SfEr0U0rqX', '1U1GtaJeYwGsPgqV9Me5bb', '06zhgqhDgIM6CMI4NyDVxu', '3XtkcPHbYX0BImTQLlbSVN', '5rfvJ9gVDr6f1AmM2g66HS', '53Pgsvu3qSYO2aXt5J2vcL', '6oR3lQqRqbm0j54OGRc1mb', '5p3JunprHCxClJjOmcLV8G', '3e4U9iktBP3KJxht6xSXXs', '5BM4OgN8Giv7Wi5K8TN02M', '5Ukzlujip1Slqka5OY82YS', '5RBx3tM9hmVJAOnSUHIWkn', '7ra7mVrA3SGTNzImA7UacC', '4UoJ14X24nu9YGwE1r0JOy', '0IVkP59yJ9GFF6B7IrvrxA', '6SgRH5w12p02thuNLjefZj', '3WD91HQDBIavSapet3ZpjG', '38YgZVHPWOWsKrsCXz6JyP', '3sOEdZiqjCYlEz84eRJXf7', '2UjGyCvayHjGihV3oLhD8a', '50FgfudO6MUkdP3XMIf1hh', '3EtIraJEHVSbBvLw5msioH', '3LHg768dEKqJKht2uPTlVR', '4yhf8baL67t7mabOrHGRHg', '7zkLpY72g6lKQbiHDqri1S', '6Uy6K3KdmUdAfelUp0SeXn', '60s0QWaOZ2UTzqdIHBCt3x', '28lU91CRfUdWJEY7KbhZBL', '34q2Y1O5zMeuBhX4WYn0aZ', '6WuRo5MdVrpKCl6lkKIAlp', '4B2lJinAkeNLSJjcq3dg8Q', '6sKecUhK5FxoWGUyuWsYZl', '08kTO4EW0jb07zNsCNM83w', '2oXvizvCiIIpkyVyzQS6Qr', '4t8tx6o7oM6Ax66ZUU361y', '0GgkKy0TpignowFgrWaqXd', '7EvZucbeXRDEwT4cFpHEi8', '615auKcis6sGDrHk6UTeog', '63ogaJyLqKCR9BUBzmtnIG', '4Bf22AlhZqSIlCV6xqYfp7']\n",
      "['1orgfjGJoycODSItcGVatE', '4mlpXiZFY3e2vlJJYeLpB8', '03HwmxQ8w8gH1qU6BlmDrK', '6ijVpK9u5MTIqgoGy4brHC', '0yMXOJL3jcigVfj4MoyQHe', '3ljvsGxbWj2uqa1ueGID6u', '209Qd0Mmb1w6yKF07DKPBp', '0gz2UpeIgaeqOb9FXQp06s', '59FK9uQYzunUJOLky9K4yK', '0EUwCozgTpHdWE1N6I39dV', '7aTrho0CMMab35UaanDEwu', '3NZ1Z3o1iHsSgATO9uIdDn', '2hPMRxUS4zWT8o8BPsy8pu', '3lFAqyqKWUHoEjeBMPl75o', '67fq28kUFhkEaBzf97EwIq', '4gGQkFLQEEb4UbjfnqcFvh', '1RTuAZfCO93uywjZVzGAxk', '52TygMVva7oFTeLvvugg7z', '24b7fGWnVRFcF5077Oy4PF', '6xjJt5I4MvYVH5bkElTulK', '1e8mgB40t3W20PgbqZYblO', '3pi3VvuRe3ZrI7w1P34PQn', '7fDzG8eOkIJ1HgVqebjelq', '62yQx2RBOdOH7VqYtRaVFE', '3biOpB0rBB73R9T8LqiSBk', '1K0DdaxLaP2PszBxIBkULQ', '3SHUxnWe1NNXjtDdxDb2Ha', '6rz9dQXR5TTj1mO289F9pv', '5kFRQ3PXkKD62Laslvg05E', '2ncSIx8lmpDbLR4mGUzWPv', '1CmUZGtH29Kx36C1Hleqlz', '2l7VuSsemTuaIy5JtUPOIh', '7LOAChK8Lkj8ZdF1LuhNWP', '0TZ1MAPCWb2jpaKzS5Muyz', '1XvMlowIHtiLoMd0rH8vHz', '6IyIjZlskC5qW9OJKADUok', '68hfhlRX2hheizP5Armx0a', '2aRcVGpRL4r1hRCuMW4uhq', '66zyOdvgXXUgJpdppQ2cHW', '5CgThQ7UtentN7IOMwPopO', '3xZU2syt4E8xu0O1ypz3Q7', '5EfHXTq8UPCFyPDvCNIKMm', '5z8lvQDJPOl8A7RkTOdJWQ', '4zUL8OlucDHVUEldsw9AtJ', '2BFlD43XJcmWFlVdCVXbzr', '6w4ejodmlwwkRQjiSwuEN3', '292b1L4gvBwbFMpiikYUpg', '0M1qzP0f8u3N4OlJk0H2ly', '6zKgU5SVP3Bs4ucroVZjYq', '5jla2fhvErKAiUHG3fnRuv']\n",
      "['3trS6e40JCVUOpPVt5OdHj', '5jPLxdGG7KKX9rM3xrm6Dd', '14EUcXXpqrC03Dzzdj8bGr', '1MaqkdFNIKPdpQGDzme5ss', '11bD1JtSjlIgKgZG2134DZ', '40xhyfAPDoMtv494MfPevP', '6vrUTGn5p8IrfTZ0J6sIVM', '3B3eOgLJSqPEA0RfboIQVM', '1fu5IQSRgPxJL2OTP7FVLW', '6CngZA32wwYDbfY0f3pVj2', '1DunhgeZSEgWiIYbHqXl0c', '76aadnUFFANRNDs6L3aqxw', '1XuTyNtFLZvBBBHtgte5F2', '0SuG9kyzGRpDqrCWtgD6Lq', '1jlG3KJ3gdYmhfuySFfpO1', '44AyOl4qVkzS48vBsbNXaC', '0VLascXUZ2Ze2u5kUD5J1f', '50FgfudO6MUkdP3XMIf1hh', '3JOVTQ5h8HGFnDdp4VT3MP', '331TLlSwGbVcNKJMkylNbK', '0N5zjRnf8AreOm95iSBXF4', '1gihuPhrLraKYrJMAEONyc', '09ZcYBGFX16X8GMDrvqQwt', '4vJ2nNBA6sxAUN5kLGPq3Q', '2hKdd3qO7cWr2Jo0Bcs0MA', '1vgSaC0BPlL6LEm4Xsx59J', '3ZsOYk34IQMrH4B1PBdofL', '4gs07VlJST4bdxGbBsXVue', '60ZGteAEtPCnGE6zevgUcd', '0Cvjlph1WGbwZY1PlMEtJY', '6IwKcFdiRQZOWeYNhUiWIv', '1T8PwF3JhIiWwBhun23RNe', '4nvDLfz3eExaYG4cuRYWkQ', '7l1qvxWjxcKpB9PCtBuTbU', '7BNWtMbwnx7A2cbKVG7lhe', '3rocTBn0NsGrVAHGOZNzH5', '7BSMSvK0WxrDeI98bswYa8', '7aHXCG5cGPHv4BhSBaciEL', '1DDNfRbtLn2dxm4onBxhOV', '6lanRgr6wXibZr8KgzXxBl', '4aPRuTsiG7B4owTTF8Dm3U', '2bkyTJ4bAnc8a5ly3dg9DX', '2WZyfujzMweFLnozyUJBkW', '4w1lzcaoZ1IC2K5TwjalRP', '6nek1Nin9q48AVZcWs9e9D', '4XMP3zVxrnr58T0tjIHvpR', '3xr8COed4nPPn6XWZ0iCGr', '3Tnc6rvBZIgilMUw7lwfb0', '3xZMPZQYETEn4hjor3TR1A', '2ihCaVdNZmnHZWt0fvAM7B']\n",
      "['5gTKaQTYjaQ0LcknkRUNGO', '2XHjFJVXYlEzoDvN82h8s5', '5WeCWa6dLrZAxEneq2CEuq', '0031rNoTNOH3pVrMV02JaD', '4EFxtPPvDHnMw60HGNCYeh', '0SiSHK5ojWzEcPZM17zdnK', '0dfi2dvbQTUtkrdxUqckzQ', '49K5azCmY65Ha5IuUaO678', '1knO4B0bsBNkFubXf1oVNM', '29BKzNsQBA1JmQutuVGCFp', '0hNVjU6JKydHts0SAjHCno', '1qDLR7YJax1H6KqlGYxB0F', '0rIzwgiiOBcyleLNOGYS2N', '5TQG8o8hwnDAFhYJt4Tx8K', '0rBre07bXfVxg9m7H0YzNa', '49RUdNvwSiUTC8fBh4KKoC', '461ptPspJoCJ3eoaXaCjnf', '5K2IXu95vAZj82RlaIjVKD', '6au1uAG2pjVIoFK3RdnAtG', '6VMtKJQO1gg3KER2mliaDC', '6im5Ts56ewHHJFu8qAE8X3', '0bDntA4cDeUFSFXhFvgyZH', '1mlFm6Pr527UqJ2Iifm5f2', '6TtHJEDNzpk0mxVNQ0ZKiM', '0hS2EF1YErlHBS5c97iGxi', '05a5sFgpIuQtujmXThIMyR', '2B976GvswTOyBqeMsuGopj', '6rovOdp3HgK1DeAMYDzoA7', '6BdR2hI8YFWV0A1hQueN5x', '12q3V8ShACq2PSWINMc2rC', '2SIXYJPUxo34uWtYoO3Op1', '3j8U6OrBD30wOVa6MHCHTi', '4Lams5Ffr1cYGbGvL7jUmU', '4mOxpj82q6n3EO7HBZCelX', '0CETmgFGt8Ne8vLnaLcduU', '5pmYtDp8mCkgRVrUWRV7uR', '0QAZgZkHYERH1rYN3u8Gci', '5fgkjhICZnqFctrV0AyuQD', '6jog1hKaZZEuiOV2bhiRXX', '3daDd8yhWLgeWyCeZp9eIj', '53U9iJ51wrRSLYkdHbP0PN', '40yUwqWzHdpb7gIxvkxIr4', '3ma4G9BfQ3iUrrCu4i00nQ', '4BP3uh0hFLFRb5cjsgLqDh', '2tlYXcTPCg8FyzwAz4M3p1', '0gv6Y0z9ZBHvAHGGIDrJEK', '0vyQzGo4ZhrOvp0zMkpyLP', '43BuKTrrsPPJosc8mWmdxx', '4qIYNR5Y9xiH45JpBlkJ7k', '06ZBR0rBSHnvZgqIi8Key7']\n",
      "['1RpoUhwpD8ZtpJhq41EU9k', '6qvtiA4wQQliK6K7oRdovk', '0ZBtXonwjdAbRo2UrD0Efq', '0FRgszvBH1I0f1rYwfrGh4', '0NZRAjB2V4dIjZpLZJQgpu', '2LdtluFBgL8cuSo9nkvJ57', '3oXorZhe7xw9FnK7kJqWpZ', '4vju55Ag7apDL2CfotuE7Q', '19QzuPTNZHJ2SEu5LCQTGI', '6gQZKkphKIMxZgca5r7ImA', '4H9gTvO9RJKNMroiqRxmUi', '6VRkC5p1m3D412ilP0UFPq', '26fSgIa539TCK3KV76chHU', '3pVsGhUEBZKFtn0n8zjS0H', '3MYB8Y1D1dke5cuoCp71yb', '03IOfDZjjJNG8lDrpEB0ZS', '3w3y8KPTfNeOKPiqUTakBh', '6ioEEcJzOpLyIO6Dgn1RYS', '55F8XbLI2mai5Hp4LqAMrO', '5Ihd9HrPvOADyVoonH9ZjB', '3SGE62l9xsh6yD0iWiXBSz', '4gRA0i5sxx3jAhHaVjPnUN', '2OPANrnimcwWcVQuDk8ibD', '1Bh99nlusyJjGkhlrnzbkI', '0LbK1bodGLc9xmV1cS9jvL', '2fE4MbwX3QGMzNaMjGVhtw', '4Kj7BJGxHXqNiAGXVD2xAH', '7xJW2SzBDNXJuWymCjYcKD', '4osgfFTICMkcGbbigdsa53', '6ktukGrnG46COzyu2xbPVm', '6SvMoVRctg7Z3jDtlYIYlL', '7uEVVVkzDAEWlfEgTnSxrs', '2VjXGuPVVxyhMgER3Uz2Fe', '0D7L4pBEGv8ni1cRfaTdMJ', '2Foc5Q5nqNiosCNqttzHof', '3E0dHzJ1WIkm58RhJAe13n', '3YKptz29AsOlm7WAVnztBh', '1tJtx09XQnxaynZLOaTNfZ', '4euxFlxLWVGmZZLyYARTyE', '7MF7QAodbGzNYav5ZfIhAY', '6ClsM1x4P327baDUXp2Dep', '6Dq2LzijkY9WNPwBGDah4L', '1WPqawIF9HCKfSOt7mN6X0', '4NiKQDXKBHuFioxx3x4lSy', '35Jk8ITsysywJ4JsCuTjZz', '6kopmMZiyLmw7h66uXcXR7', '73GR50SgGV5hybgWDSFWtD', '6uSa5iCMwPr10Ftpz8w09b', '722E6CPY8biq4sUnf40u6Y', '7zrPswSV1yxrill5OyCuaU']\n"
     ]
    },
    {
     "name": "stdout",
     "output_type": "stream",
     "text": [
      "['2X6fuFsDCAUhWZ9tY2mxry', '26hEU8M4kg9Bsm9Es43CY8', '7e3ROxgIM9zUpyHrh5C3ze', '3g7Le9RJRy9jMkrnvAl9iS', '4OnqJ1ml4Jgr5AAKNrrYCD', '0vSVDF2fHaxL2L9eEmRdAK', '1M5iGApccrA2uBzQMELW9w', '2pSMjadGmWcUbIF5eqLUxE', '7bhfPxNDc3Wtzu5Fx8FnNx', '0catSwmBUqYubDO4JKVnmj', '0Zj3Ihs4nn3G3xZ2LKLEbP', '2JY6Af30DaD5gW8BPLZSha', '59Djq0zGIu8HDZ8QXs2oiz', '77QDBf1zTvyegtTpAO5EpH', '7BYVb8ueEqGvcnPJWXihSt', '3Dupb5AcaVFErlSSfl3szW', '1OzSfjFW08DTD51XoNnog7', '2SGa3eKYVadfZ22PSKU4YK', '363OW0OpNxHRPMCJXQ9Ymo', '6CxWweyu61N9WSpMQ3oyGS', '3n1Y5Gu3CJEunqBBgYqPwH', '6d0B924xI8hHs3Xk7enRjj', '0m2RopExFZisJMyPljXVRR', '580Mdjn5BkDnnxf7TOJ5ur', '3svfTMSnUTPUxNYWiYMCNj', '7lBpl3fdfGWIiadbpL4UP6', '1TNFOXxCmzx57mxZfuPOAN', '7ybXDjylmA35jQ6EbBCFck', '6jHN8Uk6QXJ09rD2NxvMYF', '2zzUpZCsVZgA7S2cr6IFwp', '0C6MXVVI5JWJCDh7WA8oqx', '6l847nvbQHe1GkAkS4KP4v', '6zJms3MX11Qu1IKF44LoRW', '4rsinruj7V8qa8UkJ6cAvd', '0k1dXy3EXi1Ob5eK3oRPm3', '5dFMQ0MHtgLKFxyyaloEXd', '2SGW2reRU2ZvIinJAhAogC', '5EmPXhz0MYHa8ao3mdLydv', '01CJDcOSteNT93CgfgsajY', '5nBmPH8uKUkdSlHGrkDRdk', '42BAwiGC1egjbiJ6y512Tz', '5N3p8oQCB86NL346NZSWkO', '4O2ovYwmY3LKG1i3HAjkIC', '1fu5IQSRgPxJL2OTP7FVLW', '3BrmHJDkqSJojbdlvhT0JZ', '74ps3mx1qslcGmPADfY5UJ', '3r2fhVslpEJOmmHujRwcfL', '4xB5RDnph6FzhOt4idj5HD', '6Y7WN5KQN2fNxXBNFpqGZq', '6PrKZUXJPmBiobMN44yR8Y']\n",
      "['15AbuFJdFrbINydSMSqVhV', '2gcnNWEv9x0g6FhEeWtYuV', '3Q9Q9rYI2hwYZNl0Mmc2FB', '5UNKhmppwHMhqV2s9iYX6a', '6D9QbHebVk2V7jowSvLmhp', '0zZnBbRW4Dt4cJKVtUQFwF', '68RvCYDKtz9HR1WMR9D9VV', '3TTGJWEf6djut1oziq9h02', '6PyD9wjBeQB2pFZJl14KsM', '5EhzE6HJaCcLFrf5rPqvpk', '4OopEJ9H8ZMkGuSLz13jGg', '5HGxHBnvkOoYIa96sw6VMs', '7j9KvkECxdsQQesY1GktXj', '7vcDJCAO356RYkCfiUozmE', '4mBWeIhP0oa26XwKMyXbgU', '5JpOkusDXbxrcPj1Kd0O2Q', '4TkNaOLBBSHVI4W5vjuAKK', '03f28Kmu5AlIdKAfEJiI8F', '0ll9JAIrM3NVBOMl45sxSX', '1nULBrlzWatdcjA2ZctIMv', '6dhnmkbc9Z7pGsUyUgZKGX', '0Xfo7PfltbOrAiBs0eSCTH', '65fwnTi9Zy9DErM6HsBLlw', '2itL5ufxxduT1hUocBvSdJ', '0sfs8U4743dBlUKKxN7pye', '4bavcis6bApsKI8YkKg3Cx', '6yV2W1h4PZla1PE5s1zjVM', '1h7QKBD2LrRcthLYcZGjOo', '3tCOriY4Wqi71f4PNjt798', '1Kgyx7NLtzsa3gWV1efGHu', '61hJK3EfAd1LDk7x5OrCTc', '5IypFJnPEwFAPDTRz14ijX', '0uMMLry3hzWGn3q3loqMkm', '4LjyEL2sAQU7QZPC6GuTf6', '2Dt7u2lSnXjLI9XVHuuH4C', '5RHsMuIxbJhGJoyd8DYmn8', '2a1o6ZejUi8U3wzzOtCOYw', '01ksPzu3Bw8Lsf9o6xIk8C', '5U4pDBaeq2Jl2dKuWWUSsh', '1Q8NiatGDc6YgefNwT7Jgu', '7Bpuw2PRlgtIcJIDUtbVph', '6oiKbZIaQ8A0Rnsq9jMJ1E', '2dwhMQsFeHr2S787WxqAqW', '0t0WIrjRcvgBAwLlby2gsZ', '74uxxpEFwbQzvOChrDI1o0', '0fKqhLgg5CYEW2fLlhtWRj', '5czkBkWogUvTf2jleGyHaQ', '7zuwr7YqqpveNtxlKe1vn6', '7GIeuhOKPfY1sf333yAnk3', '3uU6dqBjVKRTPis0RrTaT4']\n",
      "['3xr8COed4nPPn6XWZ0iCGr', '2ihCaVdNZmnHZWt0fvAM7B', '0RtHLph8SuBwWvH9T9hIRa', '2atYprr9JsQaLynGhrWhld', '0i5el041vd6nxrGEU8QRxy', '3YPiRYIUFlcQ0aaLGmeswS', '3Knohqfb9jeYzL6wMZiWLM', '3G6hD9B2ZHOsgf4WfNu7X1', '5WZn6AJc3D8xM58UqPlco9', '7hwcojGiRqYm100tSmpZE3', '4z1O25cq9g2kuJemmUxc21', '0cITLOYn1Sv4q27zZPqlNK', '6EKywtYHtZLAvxyEcqrbE7', '2MLHyLy5z5l5YRp7momlgw', '3FM33HqRlV7J1QJoPOnd2u', '35KiiILklye1JRRctaLUb4', '6HCnIDW7vWKzL97TT3gVX5', '3dPQuX8Gs42Y7b454ybpMR', '03UrZgTINDqvnUMbbIMhql', '3DamFFqW32WihKkTVlwTYQ', '4gdwUYVnVv8u0t6XaYob4v', '4E6cwWJWZw2zWf7VFbH7wf', '2lFTzUnuGaWlWHJQokjRyb', '2dLLR6qlu5UJ5gk0dKz0h3', '4JtvyWkWQTPVcroZf8JJkp', '60ZGteAEtPCnGE6zevgUcd', '3qaPwSJau5W7KiObZmeJCb', '2GAIycsMaDVtMtdvxzR2xI', '4SNL7CFWoTQ6cjvQkpdnzc', '0EHJOhOakEiobXo81vegdy', '7rMDB1bKHO0Sh8oTWWvdsJ', '1MIwRUsj23h7cYn6mNiqHw', '2lwwrWVKdf3LR9lbbhnr6R', '13P5rwmk2EsoFRIz9UCeh9', '4kte3OcW800TPvOVgrLLj8', '0VwNdo84DaVYLIkbVO86ND', '2Yjv7MOdst5y6fFsq4cKOL', '2xeqCSNWOe59rGppUKggeF', '1vwEwDzfHlcdZssRaVkhEj', '7aHXCG5cGPHv4BhSBaciEL', '6uoM7KHsyJsHZqBQHKjQbc', '0l58YQ6trzdxO3C9XFczZS', '40xhyfAPDoMtv494MfPevP', '7vd1j4IDTU0koES9M8dvBQ', '5WKDDrq02f0mH3G1ZYmozK', '3hlksXnvbKogFdPbpO9vel', '1KDYN3odJHnj9pqGHN3FVs', '43d83eCd7GzmVOKsLwV3QN', '0ifSeVGUr7py5GggttDhXw', '4rwpZEcnalkuhPyGkEdhu0']\n",
      "['54PUd1iY2N2a5DPb7qnrzj', '2WmDlNSXpyYgMK0ws7ZWDa', '1jqLJBQwo7yBCqYQWukLkq', '6czEmVcntPHqHBYt2eRpgY', '0yz2J4wsXFCjMjpJ6A74yV', '6zfczP87XO2SxWlQtnjFNa', '2bkyTJ4bAnc8a5ly3dg9DX', '57nNNkgk768QVXq3uHxu5e', '5cwN1htZyoWqZCc33f3RfE', '2QtxlzvSBONjs1bDC34ixs', '47TQjzeG4KI0XWWb0wkbri', '3CAX47TnPqTujLIQTw8nwI', '6H3kDe7CGoWYBabAeVWGiD', '0BmNElDPN8uGmJtCwPY5fH', '0lHAMNU8RGiIObScrsRgmP', '5eWOsyHHic4vJP3LjTVhqv', '5dzHlLBWdxdQySpvZLHcu9', '2rzBvHM9h36Tpdj7Jdajka', '6QoxM9xgqazNPGF026CjpS', '0ccwMrlZONy5yXrirq7lTe', '5ByAIlEEnxYdvpnezg7HTX', '36cmM3MBMWWCFIiQ90U4J8', '3Qe097eJNp9MfpT2PieEw0', '0i5el041vd6nxrGEU8QRxy', '3FM33HqRlV7J1QJoPOnd2u', '2N5zMZX7YeL1tico8oQxa9', '3B3eOgLJSqPEA0RfboIQVM', '0Nf3vtVBfiayZL7c8r4KBO', '3pGo42KsfCQbHT8QN3lUph', '5yDX0yhtLyf0zEXEqXqyAa', '7nYvUtkQMx1v80S2FH2s9J', '2idmlkd8oUaQvYEtINpLBX', '2dLLR6qlu5UJ5gk0dKz0h3', '0VffaI2jwQknRrxpECYHsF', '0melIwOKh1JH4RjI1Is10w', '0c4IEciLCDdXEhhKxj4ThA', '5vCgOg9VqRaAUbnflCO6P3', '3zsRP8rH1kaIAo9fmiP4El', '5fnA9mkIfScSqHIpeDyvck', '77FULy278MulVvGWS8BfK7', '4i1yHB5Q9PhtWlWCplG3u5', '2FiceoWDJ67rrmb5tGBpgE', '3tInTDUq8wdIMw5ftohmqJ', '2HHiH52OPxe8qyVO7N4uH7', '2hKdd3qO7cWr2Jo0Bcs0MA', '3G6hD9B2ZHOsgf4WfNu7X1', '451GvHwY99NKV4zdKPRWmv', '6Ca3uEAuun3HusTUiIXKs1', '1B10XgaxSXRLAFq967oMpF', '5CYJB5Md92kvcrZ4lJDALY']\n",
      "['5TDl6S8AE9ytUkTnQ1tfX5', '069k6LDpAwNRgrtwwsFiYg', '1KdJ4L6znVm2VsrWYIkHO1', '5GA6UfkrweAPca60S198o5', '45HsrLZzDoWUioVEg6KV8M', '0TWK3LnciDJ04brxMzsJ1F', '7FxmsmphMyy09gdqGHeqFC', '3TfL2ZimF9Bo5adrVzIz1h', '6rIcQ0IaAQe5wOZDDOQYJ8', '3oBP6EPJhrO3EAzJkqv9pt', '7JiihoVvi5LWBUr2x45ASM', '6mwzXxkU8SLbIcOCqCVuOg', '6DD4y6SxDVlZhY1U2LLGnN', '2SbmbJP22ZPJX2ZYdw1fa8', '1VeQPOzSP83cXzefpqsSSy', '4UGHtIJl7gaIRDn4hQC98b', '0wpJHSoPs8i68nUAOUU8Ec', '1WVjxyTSZ5UiI6TlcHyUPh', '6J8QRaEPgZQc4UxmLOJ5a9', '09o8YE3Ta7YRXh5NI9HPZQ', '5BckPAYcKEJuYs1eV1BHHe', '1enBPq5iN4pXGeMIFFNuFz', '3I7Gw2LFrxuKGiWBWJ70qx', '0zK07rJr8kgXBcNwkSNVnJ', '2YJo18MsevDps3juyB3rjr', '63vK4u4uKwRD9KVJ5nHc46', '27zKclG5hiliEF93ecEkJO', '6obXvjVF91KAeLNDOECFvi', '04hIGdEVKgqCJs5tiEFObF', '1DzYDC7LD4dyKSp0AeLj63', '4Vjx8lHJOEIhlMqrtghF7H', '4nXeZFbbcZNvX4nHMJR5xJ', '5BswgPOR9l4vEskEHs7grX', '0Dx8AhXPvKq1iRGiaAfflE', '5QVqc1fl3JrjGAiKXkUWVG', '5G1cncTOGFQhhq0b0L1Hnf', '6a41rCqZhb2W6rpMolDR08', '5vl4x9sPdkpwoC9XqnqfUD', '5SdG78xwNRsjXmFGhm9Z8D', '48ubkDBO9GAFRkn3hXFHVt', '7JGdVPU3Zmg303Va2ZEipG', '3N9huFk2IceMSlKoZLaUsv', '2O1HKlrrc4wMsJRpNAh7Py', '3LGZh5qqXpMXiAlcUetjAT', '5HNd59MNRSPm4VDiyMKOLl', '4zDdZaKglOiw76QxbvWU2S', '3smEgBXXACzpwWocmcj622', '4UBYbC0qKvmUvgJgyDKJDV', '58TKlfDYHxkVmEUSM8OjkQ', '76XraHqTrC1UpFJTgzDxx2']\n",
      "['4iG2gAwKXsOcijVaVXzRPW', '1XbC2PUR09MlgmpVbLgF4L', '5fpZBXuorlUCC9SP6LVuw3', '3LGsgpx4TfxhXbr07OFKqs', '2gCvWjrHt6PVJjIN1amlje', '4VbDJMkAX3dWNBdn3KH6Wx', '7JbHx1w8yllNESuyp9SYv3', '1hxq7kWQnwdhxgpEugBMGk', '0mBkoM8r7KAQzZij5swTUL', '1lgN0A2Vki2FTON5PYq42m', '1akkzUk0nUq90X56xDVGHZ', '7BNDyzwDboNRR2wmd7GSew', '07nH4ifBxUB4lZcsf44Brn', '7zE6pyXLjUCOy8PG0UL5SZ', '5c9YHjSjEZxaCxsF1Gy5Jt', '5Fli1xRi01bvCjsZvKWro0', '47Av8QkXRAhsrYxr51X3hC', '69yfbpvmkIaB10msnKT7Q5', '5WBnKCEsPwsvWHUZmLjS3s', '5mSjJvTv9l5X2CblEa2ehN', '0LtOwyZoSNZKJWHqjzADpW', '0QMK2WVjKy3iKdqajgDB1P', '3UjtIALeg72qmJiKPWBvM3', '7w87IxuO7BDcJ3YUqCyMTT', '32I8vEvwsUXTst1QSsmpSR', '3Nttjgkm2lDCRVFpMh22hv', '6FQhNnwd4ZzHtH5NGL1YIQ', '5imUTBF35uIoABlV9g9da2', '48O0GrGJWml3DzHhC5sJ7a', '0t2QiRkpag0fAgs9zuCPlH', '0h1yRXb0VDMH64xCsXoxaj', '3VZQshi4COChhXaz7cLP02', '2Iq6HhIquO7JKr0KfTNLzU', '2zbHn4d6tUNQNSLAwS813T', '6Z8R6UsFuGXGtiIxiD8ISb', '0rUIff1QHd5zlOBtlHVqd9', '3GL12BAZFVQPcCOAgPaSsT', '2MrvoOqj007UVWUtGcCK0F', '51ZPtAuqT0V5lNONYZTrxy', '74fpNVAJrKGQuqHETi4WSt', '2qeESyQyH7MRHCBotCQsNq', '0GO8y8jQk1PkHzS31d699N', '5RoIXwyTCdyUjpMMkk4uPd', '77sVUchtzjpetfDZC9L59d', '3a2tuvXCHbW5nuUckuHkKT', '5RGHmrZCW2d4aBSfdrkiZJ', '38tKqQuqodiUYOsw6HWyeQ', '2WfaOiMkCvy7F5fcp2zZ8L', '6TK4Gszcg4IqyW0Ewtejcd', '0xMd5bcWTbyXS7wPrBtZA6']\n",
      "['4ZWTde69OUseDH4fQIHB5W', '4Nwe1BlQ9z73MAlAh3Ljqk', '3A1v0Z9ctHDvGlmQoCt6wd', '6NclmIoMMmr1OsCW9Hn64l', '2sjaTiETzrnlhl4YuwhYA6', '4kFwpV3XgZUAMBddvPNTyc', '44i0Tzhv8IUJZu34dl7ssh', '5oNtNfINL4f73yj42Jlifm', '132VSM225xlswcj5geuQ8L', '28H3wOEKsaEa8NBEYCLl4j', '2klebO4Mqwev8gv68P50aK', '2Hw1qvuF7wfUY46OTgAj8x', '0T36TyDOffXwaERpJFvjJt', '2XrCdIi8oWV0PPtTN5HPSQ', '5yDSP6ATR47lNYsLVCaAat', '3g0eE6VRzqXUvWlwLA9Kis', '7MIN37CiVP1lVjqKNmLMWk', '02gJaBpdasMQgoMj3dYHnc', '51tO19udtzlc8VPvq8pDO1', '51clqyh60YdeFvPnfQxkL5', '2cebuDRXBsi89lb1Jz3TFs', '4l1kbhmfGW5P7inXEaFXCi', '45bIc2nnkhmycfOw2G152t', '3ldrLodCp0oZL1IcOSEvWv', '4cVxrvY2lMzlwHm4fNgEhv', '5lZDFFZi7f6guwIT8VFBny', '1XRI8Tj6nLDP6fTZktnff1', '38jSJ0KyIpoIWPYKtHcay4', '2uniloaipHo5EKQjzyPCZZ', '5UXuombq8sj6a1QW5GUl4A', '3lOy0hGGF75p8QmG7sbrG9', '7w1XirstaUiyYJ5m78xLZ7', '3PdB8HZe5e2WRwEIMQl3nF', '1iPbuSlJSwqL9bSrx3hCA0', '4NeO8adAgzkvjelL97exOa', '3qL7rr0sRb2RpnOTvQAIlA', '4SWpX41RFW9qxgOVDMEStV', '3T8yHJI5BXCLfr4IH0CSeH', '1urJggjpuWE0q0axOJqyUw', '6pHJi456cDsQh9fZKoBO2a', '5ed3J4o7pY1XHACB30tNKl', '1iewtGfJZ2UQGudLYzcl5A', '6WLQAv5exw2tE4orrUW8XK', '62wBEY20qXqTRYphDJmqOD', '5OpjfdnWKGzmfNmPHtsbXb', '5u9iVvrk8vRjMStovECB38', '5BJ5Ij5pN9VeskFybkmxrf', '0brrc9zAfvmPCWgy5nPT4J', '1zgB3OKLVBnoYUSD1ljHbU', '2m3EPb4Q8ZPueOxm4xkJlg']\n"
     ]
    },
    {
     "name": "stdout",
     "output_type": "stream",
     "text": [
      "['5TPCHtr8uYLKMXijNV8ZEz', '0u2AIKDVafHwCFQ9LDnqxH', '77FULy278MulVvGWS8BfK7', '34DGCruSpNkH6b3Q5q88g1', '4xPRxqV9qCVeKLQ31NxhYz', '4mkmSx0hQ1Mf9ON1cjxxgq', '6tYYEhNoXlPfjgkMmFpd5k', '4BPzsGftooMOsfK0uLpFEP', '5Z0bGuPhXU5Wa8A1quD4kn', '0gNtm7IeRt2BJVUJrCeYCi', '3xjBU7sjXNGG7SaodMYDDk', '7EfZbHW5MN02KhSWQVtTrI', '6Sy9BUbgFse0n0LPA5lwy5', '03UrZgTINDqvnUMbbIMhql', '2iJuuzV8P9Yz0VSurttIV5', '0ijhkvBpA7OBlY4clWSUZw', '1fc12F23NDBAN1Y75GEc1v', '15ccEhr9NN3Blmdr0hQwj9', '52Y9VvRfnKjdM0MvAM21cR', '0WbLt3eiLwPza4q76j6DHu', '7pWCJKMKrixanWjLVAcsxd', '4ce29VAx1D8f3HULOHHA3K', '1RJZLVGpBG9nNZiHRQSWTp', '7zK6ibHAFE2cBd9Wq2sjut', '67awxiNHNyjMXhVgsHuIrs', '5pD0jmWSuoCc7hwJLN3VJF', '5wh4F70PB147MGSf03EUwi', '29DBw1VDHwThnr3MdAqHf2', '2RCqrsnxPdJrWyXeSjvyt8', '1LV5G400jD3Ytvyv6Dlkym', '01ZWmMsn4ugAB7tMYdNBi6', '63Ul5qgAxlXbtj97gKaAfn', '2QtJA4gbwe1AcanB2p21aP', '5Gr7gp0E2HO0MTU4ZNLAkO', '0XGqdmiteW69CBZePXaGod', '3sl4dcqSwxHVnLfqwF2jly', '5qA35ZZWFOqynheP5x8rty', '227i5FjbQe5jjXqcvQbYmY', '0mlf3yOGzVnIVxjybDQL3h', '69XatOsQuZmiAg4ICU5F3I', '0QlUdVh52dnJhPNONkxnIB', '4yQpMgnJSWXdjrZr8B8XZz', '1zknwaZrdR0Z3nvUbVFFEb', '7vFpssS3kATxZOuWGCrJAt', '2keRBUt9DIw396fWsRvtmr', '5L2l7mI8J1USMzhsmdjat9', '2UKYMN7VnsQo40n0qCt6Sa', '2R0eIBJGHpiv1nKbSzW4zq', '4S7J46CLuda7ayjLc2dL9v', '0TxMRiAvI1s0L821BJJWzx']\n",
      "['6ZRLtShOAEENAiteT42OZl', '22qUyTlEvJf6DAlyQjMADe', '0YWPaju1HwzKUroXdnbodt', '5MhFq0BNOpJLEyIsCYx4cJ', '2spVMddgaUJaYT51mXKuDQ', '18s5HkCmbwJm1UIkDQXJWG', '1MIDKiNorEQzwr11DU1qnH', '25VwSB0k3bd4JQRKmHfAPQ', '2ucU4Z6Mhk2jwBypiZO3s5', '53m19DTHRJvv1ZDLrITX4G', '32KXltTpSX1A1QpVc7y5GY', '5OT05fCsD04uyZsAL4gBvB', '1QH83zBuFEy7Tbgf2UvAnD', '1tAutlhI9FwnKn7fVgmd5P', '0VffaI2jwQknRrxpECYHsF', '6xBBAFbAdVOi9EpawnkK0l', '2tW2Kn1IGFFVfRVnQE2UaQ', '4ezzs1pX1KGkU5JHJdrc0V', '5RScucFoUuNzhLWwGWy05b', '38QMwjmOVbI3EcrRXz4D2n', '6FiaRJQQXgtBSG1DBe4eTi', '6aMbSmv99DETtr97inIrJ4', '7iMq0lWMfc5sAGElCGtdEM', '0wlvGF0fmZrC26FGir7dcb', '1HeBWh9Plc8jCkvrEnWDjK', '4SBpaaeTee6aDcrYqw7WQE', '18ztxcAk0Un2AmVN7lzB7V', '0KxzO6ZP8mq8Aml11XiVEO', '1bhTOcEFjvg5j1dHw9uUCx', '54DnLPZSODPESRsHtJFAxZ', '6ZaV4StMV0pK3nuhhYwLfj', '5fwONah6r8bm2UfcY8PGMz', '1FzbOPWCZiNxnLjAhY1jAR', '1dFkD1JfRMzwO6hwUsE8aS', '6NMBkgLg85thMr80ShrW8D', '05c4AAJKIulqI8vQQ41Rch', '3TxfC1CiIG7cRkZ70Xn4Ts', '01BUO3XEb9oGwNF0y40ltc', '2Qq9aWCi76ecFN2FVkurYL', '5YQTPJXQ6f7NQ1noFPD22N', '67P1qtCjM28plAzyVamE51', '6ZCdcFLHmRk4NXylGaIHPk', '7d1DMi7jY7kABefi8XiNxF', '5173EmOj6tDEg4bP5LO3ws', '0iMquEZShBShNEGajlDoB3', '5LNkY76ZSa4NKnSJpOQhW9', '1HQ8F9Js4hRqsFBm3MdKmN', '0rzfMJGRRVmzwyj8mTZjQO', '3HaVjlKejQmzj6hqivJ6Kv', '12lTG2CsivVTCJH21qgkVz']\n",
      "['6pCmRZ6JxaQSxMMX4KtBAj', '213OdXEOP1SqV31npD0XHs', '4SaWqgNnnTVN3LOIYlY2WT', '2nWRUq0kYXQMlacRpwStOU', '1suDUeWqfPwyHgONl2H8sO', '2SLLCE90fsRmTfjmq5iZnn', '0BSJ1iQEmGibLCPMHGtdo7', '0ewtFuJlY7pxdg4lzCXeQV', '3yrRIyY5iH8UKUuNBDTYUL', '6JeLDcXnYLTr9ygceSv5KQ', '6K3gtAIEWNqYHfd4mSEKcT', '1D8ao7EUpdNWeTfFAtjrMh', '4RgYPWsby0IAHCtCpTpxGg', '3WOeKzLBAXbhJwShhqngNx', '4v0NYoEQja0L61fCNqpmGB', '1dPZC3LbZjsYZmVPSnuwKp', '1JQLVgeRWU7Hf7y8EpmOqd', '2qXJdGapzEDomSaIZc3KBH', '4R44pZg4BgOYF5nVJvSMBB', '7Cg3F9ZsZ2TYUnlza49NYh', '3VLOwRN47Vw6Fd1UfyJGTy', '6yQO0vTPG9DxFXns2gFciC', '34DC4Pa9aSTmYqC6baHbWh', '6toL0MeA20u9yUCin422GQ', '1MtNNFxiscyrLG7FclQtU5', '2yWyFT6bW1Rd9cjVvYi4v8', '5Nn2Dj7OQsGL6pgQ9iIzPp', '5VRkJsYcf9z4Wni19FxICi', '0aH36wK5r26yyaZiK3RtEx', '0V7k2JgK1H4m0rTe8SoFg1', '2qdsmV1LzFYYwS6NbZiph8', '0Ny30hfcHPaVkCBH4lsKhf', '3hyc31kF4IPY9yTTJTsAnZ', '6GRFSQKj9lNm51Z4WITELT', '0bKUfTTUni8fCmDjjlBP9h', '57EBP45a1DoRE4Tq7hXG4f', '3AWS5h414LelClngtVBCP6', '363BOhULdeiNn9cMrdEGQ8', '5loRrMg0iqxgIhDdmMqJyv', '4DGPON9kch3YXAzVsozF8R', '3QFi5XeVa2ekO4OFUkDhnx', '5Sc8ByCXerYI4f8neZR96E', '4LImc8oAk3fo7wugjJqV87', '4cjsGCOvsd3kAwIXLgKMpv', '4w3zR0z2oqv8ijhOkTnRvT', '7pxGzq5fd59kYqWtKt6dVo', '1WJKJ6GkX8dUcA9Kj6HnIC', '6kRjsg2XWMLbMTDWFo49J6', '7mbBUjSMYEKzn28tBeC0aF', '2O5Y4TdnEGF30I3uu2rPW0']\n",
      "['5z9S7z6fozf7pCXdlcGhiF', '6gy1keDYYDfkpHYzzVVQrV', '67awxiNHNyjMXhVgsHuIrs', '4Q4K8fikwOmZYmz82Wco4w', '2l9IZ42XwMLdAWx9vMZz0W', '6pVKh6raK180WxCUSJWaYW', '2eCSUl2Sagglo84j1fmdUK', '11N58AwI4g2GlBaHEiZdmk', '5W9w0b1Nn20jFnPBdQ5LVH', '5qB8UL6OFrivhzYHoTqA05', '4Aqm1x5dknbtLWjMStwCp9', '1Pa4L24EJtTPkpftbmzeUb', '0VffaI2jwQknRrxpECYHsF', '6XrecMnCT9zJXu0Kxj5g89', '6YeKe7WlamwKabY6zQdaJm', '1Q5tTe940wYaQm8hFg343D', '1QFE2APfkXE3WmzXOdUZT3', '6IkUUrN8CqZ8op1zb6mVKY', '09cnjb8mHXVBuBQFaEbYuo', '37jTPJgwCCmIGMPB45jrPV', '7KGhWOWjJYqNYJ7e6RQlp6', '6Bo5gvXBVC7H3aud52i9ZX', '4ys98L1wnZkQU5HOpd0Mba', '38sKIaVH5cusEXlQb7mwMW', '2Ao2LEico0pK1lVrZFzhod', '5Tk6hOFiY9Y7W6KkEXiHaj', '5gJjYGOIJxj9UbFKU2YNpE', '3NcO4jGK1Opb5ea0mYLpxb', '2FiceoWDJ67rrmb5tGBpgE', '2dLLR6qlu5UJ5gk0dKz0h3', '6bl4EJNNCRds62RH8XqtzU', '5hYb9RIvqvk8J6mjMNL4pc', '3Ah0gLpPtw1nxNtqBB9mSX', '0j2T0R9dR9qdJYsB7ciXhf', '3KliPMvk1EvFZu9cvkj8p1', '776apKyslWaSaHXzQM69U7', '7xW6s3mjNQLWLaqT4FrzPs', '6nek1Nin9q48AVZcWs9e9D', '0obBFrPYkSoBJbvHfUIhkv', '3FV8CiwnZsqJr675GFLVQ0', '2PzILjPsqUGf0U5LNQGKK2', '6sy3LkhNFjJWlaeSMNwQ62', '2ETJlFyatZxetmLEKEZPnk', '0nJW01T7XtvILxQgC5J7Wh', '6qn9YLKt13AGvpq9jfO8py', '3RmQeN53LalLamEIDoeNdn', '7Kxc4LSWDtgSdu70nVsBcg', '79mxN61Rhw4zAuvWLehld3', '5W45vDaMO3mPHgaRPdeXTw', '6OFh1Bd1HWPQZukyjS852d']\n",
      "['75hLNJfiXV5k2YGrbGEW51', '4aBDS6611oBs5LBiVMuQmh', '5p9XWUdvbUzmPCukOmwoU3', '3NZJlJemX3mzjf56MqC5ML', '7qfwcqfGOkQYtzjF4UzJHM', '1V6gIisPpYqgFeWbMLI0bA', '1pGnyWdri6sC7lHmYdX1TH', '3IYn7otWjOG24CDsEVKyXi', '6sy3LkhNFjJWlaeSMNwQ62', '5mvKuE9Lf9ARVXVXA32kK9', '6FB3v4YcR57y4tXFcdxI1E', '0gbLfFlEyVHiKzlZIb0gce', '2FHdoPa5aWaAmjuf362KJ0', '7bZsx7Zif6FIhrcZrh0LVm', '1B75hgRqe7A4fwee3g3Wmu', '3UGIZ8qcrMTwzLbx6Kttqt', '2lnzGkdtDj5mtlcOW2yRtG', '2CEgGE6aESpnmtfiZwYlbV', '5bnMKUXkMfYVXW8FjvFTuV', '5IVuqXILoxVWvWEPm82Jxr', '3V4LTMmu764I724y0ToD2d', '6LxSe8YmdPxy095Ux6znaQ', '6vSq5q5DCs1IvwKIq53hj2', '4DJLcyfnyEGlUejAEAX4az', '4JsDHMv5PVO8N07DbDq33r', '2bL2gyO6kBdLkNSkxXNh6x', '5MsZIaCYY6Tsdph0LiB0hE', '3SrSuaeSbLyWY7OWuZRv8G', '18VfHIPaCo0s6FTi1Fnp6T', '4kte3OcW800TPvOVgrLLj8', '12PNcnMsjsZ3eHm62t8hiy', '3VqHuw0wFlIHcIPWkhIbdQ', '6WgrB8d7GLBGweYLDI6ObR', '1z9kQ14XBSN0r2v6fx4IdG', '1RJZLVGpBG9nNZiHRQSWTp', '2ihCaVdNZmnHZWt0fvAM7B', '63ZKUKbwb6Zozlk8LJCiPB', '3Jv1XgMPVjdN5xGfnRJ20s', '77FULy278MulVvGWS8BfK7', '5D2mYZuzcgjpchVY1pmTPh', '6HbTF52swZiGSJ2cvAJ7PU', '4YeKAwFn69ehnciOfi7Sbf', '1gihuPhrLraKYrJMAEONyc', '3U3BXlwNTkCx7lW9m1H9RY', '1DunhgeZSEgWiIYbHqXl0c', '3rDFqo8yv93PtTmdOYOPzX', '0Puj4YlTm6xNzDDADXHMI9', '3VOc8XhPd85h5xQvePytPz', '7vjzFWG4neQ9YYMN9yZ9hr', '7mCQK9YB25WZw1saUjfL4e']\n",
      "['6A9mKXlFRPMPem6ygQSt7z', '2hkKg8fe54GVl7JER2cRk3', '03UrZgTINDqvnUMbbIMhql', '1oM0LfHsx1uj8hpUyglkSO', '4O2tMlIxlgRwmNQDElwIq4', '3paHCRsgqYToiZ89UTdnqh', '2bfcNBmDEoVRWxA0Yy20vz', '1sxhhNpUBsmdM9FyfCxhqS', '4CappvVlBDtzTJzVeBcAOV', '2VloJArbBxVBjVP6S98zw0', '4TsEKxV9T9hCQBnmi8tGNy', '7wtfX80J3ifYJ64nycTA25', '6WqSovhMgo2j4Ley35Wmyc', '6IqKmZd43Xw7jHCekXY1bO', '1npXx6gwd9ZLUPHmjUo5cR', '6VxSZtJSur7288x4F6Ky2S', '6xepovPqjvrkEw9Y5AMmTm', '3WnA66Fi9b6IHQLCp3vmGH', '0chuxuOcL6oKVcroFT4mtR', '3uHMnz8ocip1y36t4IFWfI', '5ySrFXo3YGHitZNOd1FbhU', '4PLYZA4oV4oDQIMayLV9ab', '1eccVWt1VzSouwQEt0THEw', '0wppDe66eJHQHysiR7sS1m', '6M2bvgcjuuezbed2hJe6qp', '3krCkkfEvbJqJKMSVAy84A', '4dErzZexpUhNcgdVcRdyM8', '5UeduneSfmWnHM0cE0BckR', '2K9OKYvp2VmzyhYEKCg0wn', '7Jg8qbXC8I5lL7QDzgvYsM', '3xcMsaYrlt9P8dXRFvPnKC', '7z3ZSzvbtkn7baumlBs52n', '7LnfI3mcatAUUG9XdNLLVb', '3wMF9wo5gY8M9zLrMqRxUt', '10UumEsqkMv6fiihOM5Hg8', '5RHsMuIxbJhGJoyd8DYmn8', '1V1jLlcS20ftmCbRV9PXTk', '7pefpFsiUzWguhHITjnn1z', '0FBELKNPRyQZ5XDG2V5vgI', '1mDZpgKx9Xpg6ijl9DvdA6', '71GvlH0VdeClloLIkHrAVu', '10vdtnoftBXbzd0rsOvnfu', '4QyVYOWpZpHYuUIXwwEiMQ', '6wyWHg3QwEbEloYVKjaHcp', '1PuVnforHbeSrVCIktzOMb', '2EM9zpAc7PVeoAydmbfVIL', '0LQmS6FKLB1wN7itjDeDTB', '26ms1ImXoWAXVOkWX4cfsu', '5oVUDDdJT0fbbNyqbMYDoc', '2XoUvjwWcxuFv71JheNvB6']\n"
     ]
    }
   ],
   "source": [
    "for genre in genres[78:]:\n",
    "    t_list = []\n",
    "    genres_top50s[genre]=t_list\n",
    "    one_top_track_gen = sp.recommendations(seed_genres=[genre], limit=50, country='US')\n",
    "    for i in range(len(one_top_track_gen['tracks'])):\n",
    "        t_list.append(one_top_track_gen['tracks'][i]['id'])\n",
    "        \n",
    "    print(t_list)"
   ]
  },
  {
   "cell_type": "code",
   "execution_count": 408,
   "metadata": {},
   "outputs": [
    {
     "data": {
      "text/plain": [
       "dict_keys(['acoustic', 'afrobeat', 'alt-rock', 'alternative', 'ambient', 'anime', 'black-metal', 'bluegrass', 'blues', 'bossanova', 'brazil', 'breakbeat', 'british', 'cantopop', 'chicago-house', 'children', 'chill', 'classical', 'club', 'comedy', 'country', 'dance', 'dancehall', 'death-metal', 'deep-house', 'detroit-techno', 'disco', 'disney', 'drum-and-bass', 'dub', 'dubstep', 'edm', 'electro', 'electronic', 'emo', 'folk', 'forro', 'french', 'funk', 'garage', 'german', 'gospel', 'goth', 'grindcore', 'groove', 'grunge', 'guitar', 'happy', 'hard-rock', 'hardcore', 'hardstyle', 'heavy-metal', 'hip-hop', 'holidays', 'honky-tonk', 'house', 'idm', 'indian', 'indie', 'indie-pop', 'industrial', 'iranian', 'j-dance', 'j-idol', 'j-pop', 'j-rock', 'jazz', 'k-pop', 'kids', 'latin', 'latino', 'malay', 'mandopop', 'metal', 'metal-misc', 'metalcore', 'minimal-techno', 'movies', 'mpb', 'new-age', 'new-release', 'opera', 'pagode', 'party', 'philippines-opm', 'piano', 'pop', 'pop-film', 'post-dubstep', 'power-pop', 'progressive-house', 'psych-rock', 'punk', 'punk-rock', 'r-n-b', 'rainy-day', 'reggae', 'reggaeton', 'road-trip', 'rock', 'rock-n-roll', 'rockabilly', 'romance', 'sad', 'salsa', 'samba', 'sertanejo', 'show-tunes', 'singer-songwriter', 'ska', 'sleep', 'songwriter', 'soul', 'soundtracks', 'spanish', 'study', 'summer', 'swedish', 'synth-pop', 'tango', 'techno', 'trance', 'trip-hop', 'turkish', 'work-out', 'world-music'])"
      ]
     },
     "execution_count": 408,
     "metadata": {},
     "output_type": "execute_result"
    }
   ],
   "source": [
    "genres_top50s.keys()"
   ]
  },
  {
   "cell_type": "code",
   "execution_count": 407,
   "metadata": {},
   "outputs": [],
   "source": [
    "for i in ['m', 'n', 'p', 'b',]:\n",
    "    del genres_top50s[i]"
   ]
  },
  {
   "cell_type": "code",
   "execution_count": 359,
   "metadata": {
    "collapsed": true
   },
   "outputs": [
    {
     "data": {
      "text/plain": [
       "['5PjdY0CKGZdEuoNab3yDmX',\n",
       " '1rDQ4oMwGJI7B4tovsBOxc',\n",
       " '4LRPiXqCikLlN15c3yImP7',\n",
       " '2DB4DdfCFMw1iaR6JaR03a',\n",
       " '02MWAaffLxlfxAUY7c5dvx',\n",
       " '0e8nrvls4Qqv5Rfa2UhqmO',\n",
       " '5PjdY0CKGZdEuoNab3yDmX',\n",
       " '5PjdY0CKGZdEuoNab3yDmX',\n",
       " '58HvfVOeJY7lUuCqF0m3ly',\n",
       " '6Uj1ctrBOjOas8xZXGqKk4',\n",
       " '3XOalgusokruzA5ZBA2Qcb',\n",
       " '3uUuGVFu1V7jTQL60S1r8z',\n",
       " '2DB4DdfCFMw1iaR6JaR03a',\n",
       " '5PjdY0CKGZdEuoNab3yDmX',\n",
       " '3AVXwaOGCEL8cmBecfcsFJ',\n",
       " '59CfNbkERJ3NoTXDvoURjj',\n",
       " '7rglLriMNBPAyuJOMGwi39',\n",
       " '1HhNoOuqm1a5MXYEgAFl8o',\n",
       " '0e8nrvls4Qqv5Rfa2UhqmO',\n",
       " '1HvTxgCj0mTzQlEo0zLvFb',\n",
       " '1ri9ZUkBJVFUdgwzCnfcYs',\n",
       " '18asYwWugKjjsihZ0YvRxO',\n",
       " '0U1W2LZVUX7qTm7dDpqxh6',\n",
       " '0IuVhCflrQPMGRrOyoY5RW',\n",
       " '4fouWK6XVHhzl78KzQ1UjL',\n",
       " '2Xr1dTzJee307rmrkt8c0g',\n",
       " '3FkeNbs9Zeiqkr3WkbOiGp',\n",
       " '46IZ0fSY2mpAiktS3KOqds',\n",
       " '1SOClUWhOi8vHZYMz3GluK',\n",
       " '1HhNoOuqm1a5MXYEgAFl8o',\n",
       " '00Blm7zeNqgYLPtW6zg8cj',\n",
       " '7mFj0LlWtEJaEigguaWqYh',\n",
       " '2DB4DdfCFMw1iaR6JaR03a',\n",
       " '6Uj1ctrBOjOas8xZXGqKk4',\n",
       " '4RVwu0g32PAqgUiJoXsdF8',\n",
       " '4ZtFanR9U6ndgddUvNcjcG',\n",
       " '3yMC1KsTwh0ceXdIe4QQAQ',\n",
       " '3AJwUDP919kvQ9QcozQPxg',\n",
       " '2DB4DdfCFMw1iaR6JaR03a',\n",
       " '48AJSd42lXpicsGqcgopof',\n",
       " '46IZ0fSY2mpAiktS3KOqds',\n",
       " '4VtRHZ4tBDHaWltVAytlLY',\n",
       " '1rDQ4oMwGJI7B4tovsBOxc',\n",
       " '2B4GHvToeLTOBB4QLzW3Ni',\n",
       " '6f5ExP43esnvdKPddwKXJH',\n",
       " '3o9kpgkIcffx0iSwxhuNI2',\n",
       " '2gQPv5jvVPqU2a9HhMNO1v',\n",
       " '7hU3IHwjX150XLoTVmjD0q',\n",
       " '6mmPpaltUZK7xjNlBPQQ0p',\n",
       " '531KGXtBroSrOX9LVmiIgc']"
      ]
     },
     "execution_count": 359,
     "metadata": {},
     "output_type": "execute_result"
    }
   ],
   "source": [
    "top_tracks_ls"
   ]
  },
  {
   "cell_type": "code",
   "execution_count": 411,
   "metadata": {},
   "outputs": [
    {
     "name": "stdout",
     "output_type": "stream",
     "text": [
      "1uNFoZAHBGtllmzznpCI3s\n",
      "2LIk90788K0zvyj2JJVwkJ\n",
      "6KImCVD70vtIoJWnq6nGn3\n",
      "4nDoRrQiYLoBzwC5BhVJzF\n",
      "4yvcSjfu4PC0CYQyLy4wSq\n",
      "7jVv8c5Fj3E9VhNjxT4snq\n",
      "2tIP7SsRs7vjIcLrU85W8J\n",
      "1uNFoZAHBGtllmzznpCI3s\n",
      "67MNhiAICFY6Pwc2YxCO0K\n",
      "5cj0lLjcoR7YOSnhnX0Po5\n",
      "1RyvyyTE3xzB2ZywiAwp0i\n",
      "7f5Zgnp2spUuuzKplmRkt7\n",
      "6eUKZXaKkcviH0Ku9w2n3V\n",
      "2tIP7SsRs7vjIcLrU85W8J\n",
      "6VuMaDnrHyPL1p4EHjYLi7\n",
      "2W8yFh0Ga6Yf3jiayVxwkE\n",
      "3PhoLpVuITZKcymswpck5b\n",
      "53XhwfbYqKCa1cC15pYq2q\n",
      "7jVv8c5Fj3E9VhNjxT4snq\n",
      "6jGMq4yGs7aQzuGsMgVgZR\n",
      "4obzFoKoKRHIphyHzJ35G3\n",
      "2o5jDhtHVPhrJdv3cEQ99Z\n",
      "7n2wHs1TKAczGzO7Dd2rGr\n",
      "45dkTj5sMRSjrmBSBeiHym\n",
      "2VSHKHBTiXWplO8lxcnUC9\n",
      "048LktY5zMnakWq7PTtFrz\n",
      "7FNnA9vBm6EKceENgCGRMb\n",
      "4dpARuHxo51G3z768sgnrY\n",
      "6QrQ7OrISRYIfS5mtacaw2\n",
      "53XhwfbYqKCa1cC15pYq2q\n",
      "246dkjvS1zLTtiykXe5h60\n",
      "181bsRPaVXVlUKXrxwZfHK\n",
      "6eUKZXaKkcviH0Ku9w2n3V\n",
      "5cj0lLjcoR7YOSnhnX0Po5\n",
      "6qqNVTkY8uBg9cP3Jd7DAH\n",
      "1McMsnEElThX1knmY4oliG\n",
      "79AyR6ATpj2LTPxfb6FX50\n",
      "4gzpq5DPGxSnKTe4SA8HAU\n",
      "4nDoRrQiYLoBzwC5BhVJzF\n",
      "4VMYDCV2IEDYJArk749S6m\n",
      "4dpARuHxo51G3z768sgnrY\n",
      "6WFDpw4u23uSpon4BHvFRn\n",
      "2LIk90788K0zvyj2JJVwkJ\n",
      "329e4yvIujISKGKz1BZZbO\n",
      "5H6xmHXjsq98NLbEjuE29f\n",
      "7o2ZQYM7nTsaVdkXY38UAA\n",
      "1Cd373x8qzC7SNUg5IToqp\n",
      "5L1lO4eRHmJ7a0Q6csE5cT\n",
      "1mcTU81TzQhprhouKaTkpq\n",
      "6Ip8FS7vWT1uKkJSweANQK\n"
     ]
    }
   ],
   "source": [
    "for artist in artist_ids:\n",
    "    print(artist)\n",
    "#     try:\n",
    "#         top_tracks.append(sp.recommendations(artist_ids, limit=10))\n",
    "#     except:\n",
    "#         continue"
   ]
  },
  {
   "cell_type": "markdown",
   "metadata": {},
   "source": [
    "len(top_tracks_ls)"
   ]
  },
  {
   "cell_type": "code",
   "execution_count": 416,
   "metadata": {},
   "outputs": [],
   "source": [
    "import json\n",
    "with open('../data/genres_top50s_tracks''data.json', 'w') as f:\n",
    "    json.dump(genres_top50s, f)"
   ]
  },
  {
   "cell_type": "code",
   "execution_count": null,
   "metadata": {},
   "outputs": [],
   "source": []
  }
 ],
 "metadata": {
  "kernelspec": {
   "display_name": "Python 3.9.7 ('ih_da')",
   "language": "python",
   "name": "python397jvsc74a57bd02656a2c345cefa427158ba98ce933765c4a8ddc3d81beb3a286dab2e54fd9b6d"
  },
  "language_info": {
   "codemirror_mode": {
    "name": "ipython",
    "version": 3
   },
   "file_extension": ".py",
   "mimetype": "text/x-python",
   "name": "python",
   "nbconvert_exporter": "python",
   "pygments_lexer": "ipython3",
   "version": "3.9.7"
  }
 },
 "nbformat": 4,
 "nbformat_minor": 4
}
