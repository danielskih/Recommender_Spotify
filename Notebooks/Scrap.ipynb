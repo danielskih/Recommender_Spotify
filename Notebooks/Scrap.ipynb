{
 "cells": [
  {
   "cell_type": "code",
   "execution_count": 1,
   "id": "b5ba80d2",
   "metadata": {},
   "outputs": [],
   "source": [
    "from bs4 import BeautifulSoup\n",
    "import requests\n",
    "import pandas as pd"
   ]
  },
  {
   "cell_type": "code",
   "execution_count": 2,
   "id": "5d41cd1b",
   "metadata": {},
   "outputs": [],
   "source": [
    "def extract_abc(string):\n",
    "    k = ''\n",
    "    for i in string:\n",
    "        if i.isalpha() or i in [' ',',','&']:\n",
    "            k += i\n",
    "    return k"
   ]
  },
  {
   "cell_type": "code",
   "execution_count": 3,
   "id": "b7fe07af",
   "metadata": {},
   "outputs": [],
   "source": [
    "url = 'https://www.billboard.com/charts/hot-100/'"
   ]
  },
  {
   "cell_type": "code",
   "execution_count": 4,
   "id": "9ffb7c4b",
   "metadata": {},
   "outputs": [],
   "source": [
    "responce = requests.get(url)"
   ]
  },
  {
   "cell_type": "code",
   "execution_count": 5,
   "id": "430f618f",
   "metadata": {},
   "outputs": [],
   "source": [
    "#responce.content"
   ]
  },
  {
   "cell_type": "code",
   "execution_count": 6,
   "id": "d3f8229c",
   "metadata": {},
   "outputs": [
    {
     "data": {
      "text/plain": [
       "200"
      ]
     },
     "execution_count": 6,
     "metadata": {},
     "output_type": "execute_result"
    }
   ],
   "source": [
    "responce.status_code"
   ]
  },
  {
   "cell_type": "code",
   "execution_count": 7,
   "id": "5ef921dc",
   "metadata": {},
   "outputs": [],
   "source": [
    "soup = BeautifulSoup(responce.content, 'html.parser')"
   ]
  },
  {
   "cell_type": "code",
   "execution_count": 8,
   "id": "0294cfed",
   "metadata": {},
   "outputs": [],
   "source": [
    "songs = [extract_abc(i.get_text()) for i in soup.select(\".c-title.a-no-trucate\")]"
   ]
  },
  {
   "cell_type": "code",
   "execution_count": 9,
   "id": "e53f5b0c",
   "metadata": {},
   "outputs": [],
   "source": [
    "artists = [extract_abc(i.get_text()) for i in soup.select(\".c-label.a-no-trucate\")]"
   ]
  },
  {
   "cell_type": "code",
   "execution_count": 10,
   "id": "6b86fe90",
   "metadata": {},
   "outputs": [],
   "source": [
    "d = {'artists':artists, 'songs':songs}\n",
    "df = pd.DataFrame(data=d)"
   ]
  },
  {
   "cell_type": "code",
   "execution_count": 11,
   "id": "921ebb3b",
   "metadata": {},
   "outputs": [],
   "source": [
    "df.to_csv('../Data/bllbrd_top_100')"
   ]
  },
  {
   "cell_type": "code",
   "execution_count": 12,
   "id": "c7e4a1a4",
   "metadata": {},
   "outputs": [
    {
     "data": {
      "text/html": [
       "<div>\n",
       "<style scoped>\n",
       "    .dataframe tbody tr th:only-of-type {\n",
       "        vertical-align: middle;\n",
       "    }\n",
       "\n",
       "    .dataframe tbody tr th {\n",
       "        vertical-align: top;\n",
       "    }\n",
       "\n",
       "    .dataframe thead th {\n",
       "        text-align: right;\n",
       "    }\n",
       "</style>\n",
       "<table border=\"1\" class=\"dataframe\">\n",
       "  <thead>\n",
       "    <tr style=\"text-align: right;\">\n",
       "      <th></th>\n",
       "      <th>artists</th>\n",
       "      <th>songs</th>\n",
       "    </tr>\n",
       "  </thead>\n",
       "  <tbody>\n",
       "    <tr>\n",
       "      <th>0</th>\n",
       "      <td>Harry Styles</td>\n",
       "      <td>As It Was</td>\n",
       "    </tr>\n",
       "    <tr>\n",
       "      <th>1</th>\n",
       "      <td>Jack Harlow</td>\n",
       "      <td>First Class</td>\n",
       "    </tr>\n",
       "    <tr>\n",
       "      <th>2</th>\n",
       "      <td>Future Featuring Drake &amp; Tems</td>\n",
       "      <td>Wait For U</td>\n",
       "    </tr>\n",
       "    <tr>\n",
       "      <th>3</th>\n",
       "      <td>Harry Styles</td>\n",
       "      <td>Late Night Talking</td>\n",
       "    </tr>\n",
       "    <tr>\n",
       "      <th>4</th>\n",
       "      <td>Lizzo</td>\n",
       "      <td>About Damn Time</td>\n",
       "    </tr>\n",
       "    <tr>\n",
       "      <th>...</th>\n",
       "      <td>...</td>\n",
       "      <td>...</td>\n",
       "    </tr>\n",
       "    <tr>\n",
       "      <th>95</th>\n",
       "      <td>Bad Bunny &amp; The Marias</td>\n",
       "      <td>Otro Atardecer</td>\n",
       "    </tr>\n",
       "    <tr>\n",
       "      <th>96</th>\n",
       "      <td>Kendrick Lamar &amp; Taylour Paige</td>\n",
       "      <td>We Cry Together</td>\n",
       "    </tr>\n",
       "    <tr>\n",
       "      <th>97</th>\n",
       "      <td>Bad Bunny</td>\n",
       "      <td>Dos Mil</td>\n",
       "    </tr>\n",
       "    <tr>\n",
       "      <th>98</th>\n",
       "      <td>Ella Mai</td>\n",
       "      <td>DFMU</td>\n",
       "    </tr>\n",
       "    <tr>\n",
       "      <th>99</th>\n",
       "      <td>Queen Naija &amp; Big Sean</td>\n",
       "      <td>Hate Our Love</td>\n",
       "    </tr>\n",
       "  </tbody>\n",
       "</table>\n",
       "<p>100 rows × 2 columns</p>\n",
       "</div>"
      ],
      "text/plain": [
       "                           artists               songs\n",
       "0                     Harry Styles           As It Was\n",
       "1                      Jack Harlow         First Class\n",
       "2    Future Featuring Drake & Tems          Wait For U\n",
       "3                     Harry Styles  Late Night Talking\n",
       "4                            Lizzo     About Damn Time\n",
       "..                             ...                 ...\n",
       "95          Bad Bunny & The Marias      Otro Atardecer\n",
       "96  Kendrick Lamar & Taylour Paige     We Cry Together\n",
       "97                       Bad Bunny            Dos Mil \n",
       "98                        Ella Mai                DFMU\n",
       "99          Queen Naija & Big Sean       Hate Our Love\n",
       "\n",
       "[100 rows x 2 columns]"
      ]
     },
     "execution_count": 12,
     "metadata": {},
     "output_type": "execute_result"
    }
   ],
   "source": [
    "df"
   ]
  },
  {
   "cell_type": "code",
   "execution_count": null,
   "id": "eea52eac",
   "metadata": {},
   "outputs": [],
   "source": []
  }
 ],
 "metadata": {
  "interpreter": {
   "hash": "2656a2c345cefa427158ba98ce933765c4a8ddc3d81beb3a286dab2e54fd9b6d"
  },
  "kernelspec": {
   "display_name": "Python 3.9.7 ('ih_da')",
   "language": "python",
   "name": "python3"
  },
  "language_info": {
   "codemirror_mode": {
    "name": "ipython",
    "version": 3
   },
   "file_extension": ".py",
   "mimetype": "text/x-python",
   "name": "python",
   "nbconvert_exporter": "python",
   "pygments_lexer": "ipython3",
   "version": "3.9.7"
  }
 },
 "nbformat": 4,
 "nbformat_minor": 5
}
